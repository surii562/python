{
 "cells": [
  {
   "cell_type": "code",
   "execution_count": 13,
   "id": "2fea6e43-1196-4c1e-86a7-611acad53753",
   "metadata": {
    "tags": []
   },
   "outputs": [],
   "source": [
    "import pandas as pd\n",
    "import numpy as np\n",
    "import matplotlib.pyplot as plt"
   ]
  },
  {
   "cell_type": "code",
   "execution_count": 15,
   "id": "e8adcb19-39bd-42f7-8288-198c53b1b54f",
   "metadata": {
    "tags": []
   },
   "outputs": [
    {
     "data": {
      "text/html": [
       "<div>\n",
       "<style scoped>\n",
       "    .dataframe tbody tr th:only-of-type {\n",
       "        vertical-align: middle;\n",
       "    }\n",
       "\n",
       "    .dataframe tbody tr th {\n",
       "        vertical-align: top;\n",
       "    }\n",
       "\n",
       "    .dataframe thead th {\n",
       "        text-align: right;\n",
       "    }\n",
       "</style>\n",
       "<table border=\"1\" class=\"dataframe\">\n",
       "  <thead>\n",
       "    <tr style=\"text-align: right;\">\n",
       "      <th></th>\n",
       "      <th>show_id</th>\n",
       "      <th>type</th>\n",
       "      <th>title</th>\n",
       "      <th>director</th>\n",
       "      <th>cast</th>\n",
       "      <th>country</th>\n",
       "      <th>date_added</th>\n",
       "      <th>release_year</th>\n",
       "      <th>rating</th>\n",
       "      <th>duration</th>\n",
       "      <th>listed_in</th>\n",
       "      <th>description</th>\n",
       "    </tr>\n",
       "  </thead>\n",
       "  <tbody>\n",
       "    <tr>\n",
       "      <th>0</th>\n",
       "      <td>s1</td>\n",
       "      <td>Movie</td>\n",
       "      <td>Dick Johnson Is Dead</td>\n",
       "      <td>Kirsten Johnson</td>\n",
       "      <td>NaN</td>\n",
       "      <td>United States</td>\n",
       "      <td>September 25, 2021</td>\n",
       "      <td>2020</td>\n",
       "      <td>PG-13</td>\n",
       "      <td>90 min</td>\n",
       "      <td>Documentaries</td>\n",
       "      <td>As her father nears the end of his life, filmm...</td>\n",
       "    </tr>\n",
       "    <tr>\n",
       "      <th>1</th>\n",
       "      <td>s2</td>\n",
       "      <td>TV Show</td>\n",
       "      <td>Blood &amp; Water</td>\n",
       "      <td>NaN</td>\n",
       "      <td>Ama Qamata, Khosi Ngema, Gail Mabalane, Thaban...</td>\n",
       "      <td>South Africa</td>\n",
       "      <td>September 24, 2021</td>\n",
       "      <td>2021</td>\n",
       "      <td>TV-MA</td>\n",
       "      <td>2 Seasons</td>\n",
       "      <td>International TV Shows, TV Dramas, TV Mysteries</td>\n",
       "      <td>After crossing paths at a party, a Cape Town t...</td>\n",
       "    </tr>\n",
       "    <tr>\n",
       "      <th>2</th>\n",
       "      <td>s3</td>\n",
       "      <td>TV Show</td>\n",
       "      <td>Ganglands</td>\n",
       "      <td>Julien Leclercq</td>\n",
       "      <td>Sami Bouajila, Tracy Gotoas, Samuel Jouy, Nabi...</td>\n",
       "      <td>NaN</td>\n",
       "      <td>September 24, 2021</td>\n",
       "      <td>2021</td>\n",
       "      <td>TV-MA</td>\n",
       "      <td>1 Season</td>\n",
       "      <td>Crime TV Shows, International TV Shows, TV Act...</td>\n",
       "      <td>To protect his family from a powerful drug lor...</td>\n",
       "    </tr>\n",
       "    <tr>\n",
       "      <th>3</th>\n",
       "      <td>s4</td>\n",
       "      <td>TV Show</td>\n",
       "      <td>Jailbirds New Orleans</td>\n",
       "      <td>NaN</td>\n",
       "      <td>NaN</td>\n",
       "      <td>NaN</td>\n",
       "      <td>September 24, 2021</td>\n",
       "      <td>2021</td>\n",
       "      <td>TV-MA</td>\n",
       "      <td>1 Season</td>\n",
       "      <td>Docuseries, Reality TV</td>\n",
       "      <td>Feuds, flirtations and toilet talk go down amo...</td>\n",
       "    </tr>\n",
       "    <tr>\n",
       "      <th>4</th>\n",
       "      <td>s5</td>\n",
       "      <td>TV Show</td>\n",
       "      <td>Kota Factory</td>\n",
       "      <td>NaN</td>\n",
       "      <td>Mayur More, Jitendra Kumar, Ranjan Raj, Alam K...</td>\n",
       "      <td>India</td>\n",
       "      <td>September 24, 2021</td>\n",
       "      <td>2021</td>\n",
       "      <td>TV-MA</td>\n",
       "      <td>2 Seasons</td>\n",
       "      <td>International TV Shows, Romantic TV Shows, TV ...</td>\n",
       "      <td>In a city of coaching centers known to train I...</td>\n",
       "    </tr>\n",
       "    <tr>\n",
       "      <th>...</th>\n",
       "      <td>...</td>\n",
       "      <td>...</td>\n",
       "      <td>...</td>\n",
       "      <td>...</td>\n",
       "      <td>...</td>\n",
       "      <td>...</td>\n",
       "      <td>...</td>\n",
       "      <td>...</td>\n",
       "      <td>...</td>\n",
       "      <td>...</td>\n",
       "      <td>...</td>\n",
       "      <td>...</td>\n",
       "    </tr>\n",
       "    <tr>\n",
       "      <th>8802</th>\n",
       "      <td>s8803</td>\n",
       "      <td>Movie</td>\n",
       "      <td>Zodiac</td>\n",
       "      <td>David Fincher</td>\n",
       "      <td>Mark Ruffalo, Jake Gyllenhaal, Robert Downey J...</td>\n",
       "      <td>United States</td>\n",
       "      <td>November 20, 2019</td>\n",
       "      <td>2007</td>\n",
       "      <td>R</td>\n",
       "      <td>158 min</td>\n",
       "      <td>Cult Movies, Dramas, Thrillers</td>\n",
       "      <td>A political cartoonist, a crime reporter and a...</td>\n",
       "    </tr>\n",
       "    <tr>\n",
       "      <th>8803</th>\n",
       "      <td>s8804</td>\n",
       "      <td>TV Show</td>\n",
       "      <td>Zombie Dumb</td>\n",
       "      <td>NaN</td>\n",
       "      <td>NaN</td>\n",
       "      <td>NaN</td>\n",
       "      <td>July 1, 2019</td>\n",
       "      <td>2018</td>\n",
       "      <td>TV-Y7</td>\n",
       "      <td>2 Seasons</td>\n",
       "      <td>Kids' TV, Korean TV Shows, TV Comedies</td>\n",
       "      <td>While living alone in a spooky town, a young g...</td>\n",
       "    </tr>\n",
       "    <tr>\n",
       "      <th>8804</th>\n",
       "      <td>s8805</td>\n",
       "      <td>Movie</td>\n",
       "      <td>Zombieland</td>\n",
       "      <td>Ruben Fleischer</td>\n",
       "      <td>Jesse Eisenberg, Woody Harrelson, Emma Stone, ...</td>\n",
       "      <td>United States</td>\n",
       "      <td>November 1, 2019</td>\n",
       "      <td>2009</td>\n",
       "      <td>R</td>\n",
       "      <td>88 min</td>\n",
       "      <td>Comedies, Horror Movies</td>\n",
       "      <td>Looking to survive in a world taken over by zo...</td>\n",
       "    </tr>\n",
       "    <tr>\n",
       "      <th>8805</th>\n",
       "      <td>s8806</td>\n",
       "      <td>Movie</td>\n",
       "      <td>Zoom</td>\n",
       "      <td>Peter Hewitt</td>\n",
       "      <td>Tim Allen, Courteney Cox, Chevy Chase, Kate Ma...</td>\n",
       "      <td>United States</td>\n",
       "      <td>January 11, 2020</td>\n",
       "      <td>2006</td>\n",
       "      <td>PG</td>\n",
       "      <td>88 min</td>\n",
       "      <td>Children &amp; Family Movies, Comedies</td>\n",
       "      <td>Dragged from civilian life, a former superhero...</td>\n",
       "    </tr>\n",
       "    <tr>\n",
       "      <th>8806</th>\n",
       "      <td>s8807</td>\n",
       "      <td>Movie</td>\n",
       "      <td>Zubaan</td>\n",
       "      <td>Mozez Singh</td>\n",
       "      <td>Vicky Kaushal, Sarah-Jane Dias, Raaghav Chanan...</td>\n",
       "      <td>India</td>\n",
       "      <td>March 2, 2019</td>\n",
       "      <td>2015</td>\n",
       "      <td>TV-14</td>\n",
       "      <td>111 min</td>\n",
       "      <td>Dramas, International Movies, Music &amp; Musicals</td>\n",
       "      <td>A scrappy but poor boy worms his way into a ty...</td>\n",
       "    </tr>\n",
       "  </tbody>\n",
       "</table>\n",
       "<p>8807 rows × 12 columns</p>\n",
       "</div>"
      ],
      "text/plain": [
       "     show_id     type                  title         director  \\\n",
       "0         s1    Movie   Dick Johnson Is Dead  Kirsten Johnson   \n",
       "1         s2  TV Show          Blood & Water              NaN   \n",
       "2         s3  TV Show              Ganglands  Julien Leclercq   \n",
       "3         s4  TV Show  Jailbirds New Orleans              NaN   \n",
       "4         s5  TV Show           Kota Factory              NaN   \n",
       "...      ...      ...                    ...              ...   \n",
       "8802   s8803    Movie                 Zodiac    David Fincher   \n",
       "8803   s8804  TV Show            Zombie Dumb              NaN   \n",
       "8804   s8805    Movie             Zombieland  Ruben Fleischer   \n",
       "8805   s8806    Movie                   Zoom     Peter Hewitt   \n",
       "8806   s8807    Movie                 Zubaan      Mozez Singh   \n",
       "\n",
       "                                                   cast        country  \\\n",
       "0                                                   NaN  United States   \n",
       "1     Ama Qamata, Khosi Ngema, Gail Mabalane, Thaban...   South Africa   \n",
       "2     Sami Bouajila, Tracy Gotoas, Samuel Jouy, Nabi...            NaN   \n",
       "3                                                   NaN            NaN   \n",
       "4     Mayur More, Jitendra Kumar, Ranjan Raj, Alam K...          India   \n",
       "...                                                 ...            ...   \n",
       "8802  Mark Ruffalo, Jake Gyllenhaal, Robert Downey J...  United States   \n",
       "8803                                                NaN            NaN   \n",
       "8804  Jesse Eisenberg, Woody Harrelson, Emma Stone, ...  United States   \n",
       "8805  Tim Allen, Courteney Cox, Chevy Chase, Kate Ma...  United States   \n",
       "8806  Vicky Kaushal, Sarah-Jane Dias, Raaghav Chanan...          India   \n",
       "\n",
       "              date_added  release_year rating   duration  \\\n",
       "0     September 25, 2021          2020  PG-13     90 min   \n",
       "1     September 24, 2021          2021  TV-MA  2 Seasons   \n",
       "2     September 24, 2021          2021  TV-MA   1 Season   \n",
       "3     September 24, 2021          2021  TV-MA   1 Season   \n",
       "4     September 24, 2021          2021  TV-MA  2 Seasons   \n",
       "...                  ...           ...    ...        ...   \n",
       "8802   November 20, 2019          2007      R    158 min   \n",
       "8803        July 1, 2019          2018  TV-Y7  2 Seasons   \n",
       "8804    November 1, 2019          2009      R     88 min   \n",
       "8805    January 11, 2020          2006     PG     88 min   \n",
       "8806       March 2, 2019          2015  TV-14    111 min   \n",
       "\n",
       "                                              listed_in  \\\n",
       "0                                         Documentaries   \n",
       "1       International TV Shows, TV Dramas, TV Mysteries   \n",
       "2     Crime TV Shows, International TV Shows, TV Act...   \n",
       "3                                Docuseries, Reality TV   \n",
       "4     International TV Shows, Romantic TV Shows, TV ...   \n",
       "...                                                 ...   \n",
       "8802                     Cult Movies, Dramas, Thrillers   \n",
       "8803             Kids' TV, Korean TV Shows, TV Comedies   \n",
       "8804                            Comedies, Horror Movies   \n",
       "8805                 Children & Family Movies, Comedies   \n",
       "8806     Dramas, International Movies, Music & Musicals   \n",
       "\n",
       "                                            description  \n",
       "0     As her father nears the end of his life, filmm...  \n",
       "1     After crossing paths at a party, a Cape Town t...  \n",
       "2     To protect his family from a powerful drug lor...  \n",
       "3     Feuds, flirtations and toilet talk go down amo...  \n",
       "4     In a city of coaching centers known to train I...  \n",
       "...                                                 ...  \n",
       "8802  A political cartoonist, a crime reporter and a...  \n",
       "8803  While living alone in a spooky town, a young g...  \n",
       "8804  Looking to survive in a world taken over by zo...  \n",
       "8805  Dragged from civilian life, a former superhero...  \n",
       "8806  A scrappy but poor boy worms his way into a ty...  \n",
       "\n",
       "[8807 rows x 12 columns]"
      ]
     },
     "execution_count": 15,
     "metadata": {},
     "output_type": "execute_result"
    }
   ],
   "source": [
    "data = pd.read_csv('netflix.csv', sep = ',', header = 0)\n",
    "data"
   ]
  },
  {
   "cell_type": "code",
   "execution_count": 28,
   "id": "a50cd16b-3d84-4e57-a391-57b6fe3ec636",
   "metadata": {
    "tags": []
   },
   "outputs": [],
   "source": [
    "drop_col = data.columns[data.isnull().sum()/len(data) > 0.15].tolist()"
   ]
  },
  {
   "cell_type": "code",
   "execution_count": 29,
   "id": "7ecca322-3887-480a-bbb7-7e85ae63e3bf",
   "metadata": {
    "scrolled": true,
    "tags": []
   },
   "outputs": [],
   "source": [
    "data.drop(drop_col, axis = 1, inplace = True)"
   ]
  },
  {
   "cell_type": "code",
   "execution_count": 30,
   "id": "332e05a8-8b97-40f5-a02e-adbbccb2d1e0",
   "metadata": {
    "tags": []
   },
   "outputs": [],
   "source": [
    "data.dropna(inplace = True)\n",
    "data.reset_index(drop = True, inplace = True)"
   ]
  },
  {
   "cell_type": "code",
   "execution_count": 31,
   "id": "bbd4a639-d795-4294-87b7-5346339664a6",
   "metadata": {
    "tags": []
   },
   "outputs": [],
   "source": [
    "def one_hot_encoding(data:pd.DataFrame, col:str)->pd.DataFrame:\n",
    "    '''This function will apply one hot encoding for a given dataframe and column name'''\n",
    "    data.reset_index(drop = True, inplace = True)\n",
    "    data_list = data[col].apply(lambda x: x.split(','))\n",
    "    data_list =data_list.apply(lambda x: [i.strip() for i in x])\n",
    "    data_list_unique = []\n",
    "    print(data_list.values)\n",
    "    for lst in data_list:\n",
    "        for val in lst:\n",
    "            if val not in data_list_unique:\n",
    "                data_list_unique.append(val)\n",
    "    data_mat = np.zeros((len(data_list), len(data_list_unique)))\n",
    "    data_mat_df = pd.DataFrame(data_mat, columns=data_list_unique)\n",
    "    for idx, cons in enumerate(data_list.values):\n",
    "        for con in cons:\n",
    "            data_mat_df.loc[idx, con] = 1\n",
    "    print(data_mat_df)\n",
    "    data.drop(col, axis = 1, inplace = True)\n",
    "    \n",
    "    try:\n",
    "        assert len(data) == len(data_mat_df)\n",
    "        con_data = pd.concat([data, data_mat_df], axis = 1, join = 'outer')\n",
    "        return con_data, data_mat_df.columns\n",
    "    except AssertionError:\n",
    "        print('Concatenation of two dataframes could not happen')"
   ]
  },
  {
   "cell_type": "code",
   "execution_count": 32,
   "id": "4abd8a38-6844-474b-ace0-b6ccb49f9c9d",
   "metadata": {
    "collapsed": true,
    "jupyter": {
     "outputs_hidden": true
    },
    "tags": []
   },
   "outputs": [
    {
     "name": "stdout",
     "output_type": "stream",
     "text": [
      "[list(['South Africa']) list(['India'])\n",
      " list(['United States', 'Ghana', 'Burkina Faso', 'United Kingdom', 'Germany', 'Ethiopia'])\n",
      " ... list(['United States']) list(['United States']) list(['India'])]\n",
      "      South Africa  India  United States  Ghana  Burkina Faso  United Kingdom  \\\n",
      "0              1.0    0.0            0.0    0.0           0.0             0.0   \n",
      "1              0.0    1.0            0.0    0.0           0.0             0.0   \n",
      "2              0.0    0.0            1.0    1.0           1.0             1.0   \n",
      "3              0.0    0.0            0.0    0.0           0.0             1.0   \n",
      "4              0.0    0.0            1.0    0.0           0.0             0.0   \n",
      "...            ...    ...            ...    ...           ...             ...   \n",
      "7285           0.0    0.0            0.0    0.0           0.0             0.0   \n",
      "7286           0.0    0.0            1.0    0.0           0.0             0.0   \n",
      "7287           0.0    0.0            1.0    0.0           0.0             0.0   \n",
      "7288           0.0    0.0            1.0    0.0           0.0             0.0   \n",
      "7289           0.0    1.0            0.0    0.0           0.0             0.0   \n",
      "\n",
      "      Germany  Ethiopia  Czech Republic  Mexico  ...  Vatican City  Ukraine  \\\n",
      "0         0.0       0.0             0.0     0.0  ...           0.0      0.0   \n",
      "1         0.0       0.0             0.0     0.0  ...           0.0      0.0   \n",
      "2         1.0       1.0             0.0     0.0  ...           0.0      0.0   \n",
      "3         0.0       0.0             0.0     0.0  ...           0.0      0.0   \n",
      "4         0.0       0.0             0.0     0.0  ...           0.0      0.0   \n",
      "...       ...       ...             ...     ...  ...           ...      ...   \n",
      "7285      0.0       0.0             0.0     0.0  ...           0.0      0.0   \n",
      "7286      0.0       0.0             0.0     0.0  ...           0.0      0.0   \n",
      "7287      0.0       0.0             0.0     0.0  ...           0.0      0.0   \n",
      "7288      0.0       0.0             0.0     0.0  ...           0.0      0.0   \n",
      "7289      0.0       0.0             0.0     0.0  ...           0.0      0.0   \n",
      "\n",
      "      Jamaica  Lithuania  Afghanistan  Somalia  Sudan  Panama  East Germany  \\\n",
      "0         0.0        0.0          0.0      0.0    0.0     0.0           0.0   \n",
      "1         0.0        0.0          0.0      0.0    0.0     0.0           0.0   \n",
      "2         0.0        0.0          0.0      0.0    0.0     0.0           0.0   \n",
      "3         0.0        0.0          0.0      0.0    0.0     0.0           0.0   \n",
      "4         0.0        0.0          0.0      0.0    0.0     0.0           0.0   \n",
      "...       ...        ...          ...      ...    ...     ...           ...   \n",
      "7285      0.0        0.0          0.0      0.0    0.0     0.0           0.0   \n",
      "7286      0.0        0.0          0.0      0.0    0.0     0.0           0.0   \n",
      "7287      0.0        0.0          0.0      0.0    0.0     0.0           0.0   \n",
      "7288      0.0        0.0          0.0      0.0    0.0     0.0           0.0   \n",
      "7289      0.0        0.0          0.0      0.0    0.0     0.0           0.0   \n",
      "\n",
      "      Montenegro  \n",
      "0            0.0  \n",
      "1            0.0  \n",
      "2            0.0  \n",
      "3            0.0  \n",
      "4            0.0  \n",
      "...          ...  \n",
      "7285         0.0  \n",
      "7286         0.0  \n",
      "7287         0.0  \n",
      "7288         0.0  \n",
      "7289         0.0  \n",
      "\n",
      "[7290 rows x 116 columns]\n"
     ]
    }
   ],
   "source": [
    "con_data, con_cols = one_hot_encoding(data, 'country')"
   ]
  },
  {
   "cell_type": "code",
   "execution_count": 33,
   "id": "d52a6780-cf0d-47bd-97b8-3c96fff8115e",
   "metadata": {
    "tags": []
   },
   "outputs": [
    {
     "name": "stdout",
     "output_type": "stream",
     "text": [
      "(7290, 126)\n",
      "Index(['South Africa', 'India', 'United States', 'Ghana', 'Burkina Faso',\n",
      "       'United Kingdom', 'Germany', 'Ethiopia', 'Czech Republic', 'Mexico',\n",
      "       ...\n",
      "       'Vatican City', 'Ukraine', 'Jamaica', 'Lithuania', 'Afghanistan',\n",
      "       'Somalia', 'Sudan', 'Panama', 'East Germany', 'Montenegro'],\n",
      "      dtype='object', length=116)\n"
     ]
    }
   ],
   "source": [
    "print(con_data.shape)\n",
    "print(con_cols)"
   ]
  },
  {
   "cell_type": "code",
   "execution_count": 34,
   "id": "6dd9b3f9-d77c-4c39-8604-f18bddebca01",
   "metadata": {
    "collapsed": true,
    "jupyter": {
     "outputs_hidden": true
    },
    "tags": []
   },
   "outputs": [
    {
     "name": "stdout",
     "output_type": "stream",
     "text": [
      "[list(['International TV Shows', 'TV Dramas', 'TV Mysteries'])\n",
      " list(['International TV Shows', 'Romantic TV Shows', 'TV Comedies'])\n",
      " list(['Dramas', 'Independent Movies', 'International Movies']) ...\n",
      " list(['Comedies', 'Horror Movies'])\n",
      " list(['Children & Family Movies', 'Comedies'])\n",
      " list(['Dramas', 'International Movies', 'Music & Musicals'])]\n",
      "      International TV Shows  TV Dramas  TV Mysteries  Romantic TV Shows  \\\n",
      "0                        1.0        1.0           1.0                0.0   \n",
      "1                        1.0        0.0           0.0                1.0   \n",
      "2                        0.0        0.0           0.0                0.0   \n",
      "3                        0.0        0.0           0.0                0.0   \n",
      "4                        0.0        0.0           0.0                0.0   \n",
      "...                      ...        ...           ...                ...   \n",
      "7285                     0.0        0.0           0.0                0.0   \n",
      "7286                     0.0        0.0           0.0                0.0   \n",
      "7287                     0.0        0.0           0.0                0.0   \n",
      "7288                     0.0        0.0           0.0                0.0   \n",
      "7289                     0.0        0.0           0.0                0.0   \n",
      "\n",
      "      TV Comedies  Dramas  Independent Movies  International Movies  \\\n",
      "0             0.0     0.0                 0.0                   0.0   \n",
      "1             1.0     0.0                 0.0                   0.0   \n",
      "2             0.0     1.0                 1.0                   1.0   \n",
      "3             0.0     0.0                 0.0                   0.0   \n",
      "4             0.0     1.0                 0.0                   0.0   \n",
      "...           ...     ...                 ...                   ...   \n",
      "7285          0.0     1.0                 0.0                   1.0   \n",
      "7286          0.0     1.0                 0.0                   0.0   \n",
      "7287          0.0     0.0                 0.0                   0.0   \n",
      "7288          0.0     0.0                 0.0                   0.0   \n",
      "7289          0.0     1.0                 0.0                   1.0   \n",
      "\n",
      "      British TV Shows  Reality TV  ...  LGBTQ Movies  TV Horror  \\\n",
      "0                  0.0         0.0  ...           0.0        0.0   \n",
      "1                  0.0         0.0  ...           0.0        0.0   \n",
      "2                  0.0         0.0  ...           0.0        0.0   \n",
      "3                  1.0         1.0  ...           0.0        0.0   \n",
      "4                  0.0         0.0  ...           0.0        0.0   \n",
      "...                ...         ...  ...           ...        ...   \n",
      "7285               0.0         0.0  ...           0.0        0.0   \n",
      "7286               0.0         0.0  ...           0.0        0.0   \n",
      "7287               0.0         0.0  ...           0.0        0.0   \n",
      "7288               0.0         0.0  ...           0.0        0.0   \n",
      "7289               0.0         0.0  ...           0.0        0.0   \n",
      "\n",
      "      Stand-Up Comedy  TV Shows  Movies  Sports Movies  Classic & Cult TV  \\\n",
      "0                 0.0       0.0     0.0            0.0                0.0   \n",
      "1                 0.0       0.0     0.0            0.0                0.0   \n",
      "2                 0.0       0.0     0.0            0.0                0.0   \n",
      "3                 0.0       0.0     0.0            0.0                0.0   \n",
      "4                 0.0       0.0     0.0            0.0                0.0   \n",
      "...               ...       ...     ...            ...                ...   \n",
      "7285              0.0       0.0     0.0            0.0                0.0   \n",
      "7286              0.0       0.0     0.0            0.0                0.0   \n",
      "7287              0.0       0.0     0.0            0.0                0.0   \n",
      "7288              0.0       0.0     0.0            0.0                0.0   \n",
      "7289              0.0       0.0     0.0            0.0                0.0   \n",
      "\n",
      "      TV Thrillers  Science & Nature TV  Stand-Up Comedy & Talk Shows  \n",
      "0              0.0                  0.0                           0.0  \n",
      "1              0.0                  0.0                           0.0  \n",
      "2              0.0                  0.0                           0.0  \n",
      "3              0.0                  0.0                           0.0  \n",
      "4              0.0                  0.0                           0.0  \n",
      "...            ...                  ...                           ...  \n",
      "7285           0.0                  0.0                           0.0  \n",
      "7286           0.0                  0.0                           0.0  \n",
      "7287           0.0                  0.0                           0.0  \n",
      "7288           0.0                  0.0                           0.0  \n",
      "7289           0.0                  0.0                           0.0  \n",
      "\n",
      "[7290 rows x 42 columns]\n"
     ]
    }
   ],
   "source": [
    "listed_in_data, listed_in_cols = one_hot_encoding(data,'listed_in')"
   ]
  },
  {
   "cell_type": "code",
   "execution_count": 35,
   "id": "a377a68f-883c-4d89-95bc-2241bea7ad6c",
   "metadata": {
    "tags": []
   },
   "outputs": [
    {
     "data": {
      "text/plain": [
       "(7290, 51)"
      ]
     },
     "execution_count": 35,
     "metadata": {},
     "output_type": "execute_result"
    }
   ],
   "source": [
    "listed_in_data.shape"
   ]
  },
  {
   "cell_type": "code",
   "execution_count": 36,
   "id": "cecc7267-e7e3-4e90-87ba-c077425e457e",
   "metadata": {
    "tags": []
   },
   "outputs": [],
   "source": [
    "# which country has maximum number movies released"
   ]
  },
  {
   "cell_type": "code",
   "execution_count": 37,
   "id": "709d96cf-91d8-463e-829b-fd044e285a39",
   "metadata": {
    "collapsed": true,
    "jupyter": {
     "outputs_hidden": true
    },
    "tags": []
   },
   "outputs": [
    {
     "data": {
      "image/png": "[encoded data removed]",
      "text/plain": [
       "<Figure size 640x480 with 1 Axes>"
      ]
     },
     "metadata": {},
     "output_type": "display_data"
    }
   ],
   "source": [
    "import matplotlib.pyplot as plt\n",
    "import warnings\n",
    "warnings.filterwarnings(action = 'ignore')\n",
    "plt.style.use('ggplot')\n",
    "listed_in_data.loc[listed_in_data.type == 'Movie', listed_in_cols].sum().sort_values(ascending = False)[:10].plot(kind = 'bar');"
   ]
  },
  {
   "cell_type": "code",
   "execution_count": null,
   "id": "d7c8db03-cddb-40b6-9bd3-8577bbf88b99",
   "metadata": {},
   "outputs": [],
   "source": []
  },
  {
   "cell_type": "code",
   "execution_count": 38,
   "id": "2a1ec717-4f54-48b2-8973-d6f042d66210",
   "metadata": {},
   "outputs": [],
   "source": [
    "year = listed_in_data.loc[listed_in_data.type == 'TV Show', 'release_year'].value_counts().index[0]"
   ]
  },
  {
   "cell_type": "code",
   "execution_count": 39,
   "id": "3f2c3d41-1895-4e75-8604-21fabdf453a3",
   "metadata": {},
   "outputs": [
    {
     "data": {
      "text/plain": [
       "type\n",
       "Movie      417\n",
       "TV Show    327\n",
       "Name: count, dtype: int64"
      ]
     },
     "execution_count": 39,
     "metadata": {},
     "output_type": "execute_result"
    }
   ],
   "source": [
    "listed_in_data.loc[listed_in_data.release_year == year, 'type'].value_counts()"
   ]
  },
  {
   "cell_type": "code",
   "execution_count": 40,
   "id": "e6ca7746-1ba5-4d89-9b64-9c5d413c208f",
   "metadata": {
    "tags": []
   },
   "outputs": [],
   "source": [
    "seasons = listed_in_data.loc[(listed_in_data.release_year == year) & (listed_in_data.type == 'TV Show'), 'duration'].value_counts()"
   ]
  },
  {
   "cell_type": "code",
   "execution_count": 41,
   "id": "b35fa41c-2655-4006-9d55-f91e43d917bc",
   "metadata": {
    "tags": []
   },
   "outputs": [
    {
     "name": "stdout",
     "output_type": "stream",
     "text": [
      "Index(['1 Season', '2 Seasons', '3 Seasons', '4 Seasons', '5 Seasons',\n",
      "       '6 Seasons', '7 Seasons', '8 Seasons', '17 Seasons', '9 Seasons'],\n",
      "      dtype='object', name='duration')\n"
     ]
    }
   ],
   "source": [
    "print(seasons.index)"
   ]
  },
  {
   "cell_type": "code",
   "execution_count": 42,
   "id": "b412303c-95e7-48ee-ad0f-01678679a9ed",
   "metadata": {
    "tags": []
   },
   "outputs": [
    {
     "name": "stdout",
     "output_type": "stream",
     "text": [
      "[1, 2, 3, 4, 5, 6, 7, 8, 9, 17]\n",
      "17 1\n"
     ]
    }
   ],
   "source": [
    "seasons_int_list = sorted([int(i.strip()[:2]) for i in seasons.index])\n",
    "print(seasons_int_list)\n",
    "seasons_max = seasons_int_list[-1]\n",
    "seasons_min = seasons_int_list[0]\n",
    "print(seasons_max, seasons_min)"
   ]
  },
  {
   "cell_type": "code",
   "execution_count": 43,
   "id": "8e173e38-0937-41c4-b026-89fe752049a2",
   "metadata": {
    "tags": []
   },
   "outputs": [
    {
     "ename": "NameError",
     "evalue": "name 'seasons_df' is not defined",
     "output_type": "error",
     "traceback": [
      "\u001b[1;31m---------------------------------------------------------------------------\u001b[0m",
      "\u001b[1;31mNameError\u001b[0m                                 Traceback (most recent call last)",
      "Cell \u001b[1;32mIn[43], line 1\u001b[0m\n\u001b[1;32m----> 1\u001b[0m \u001b[43mseasons_df\u001b[49m\u001b[38;5;241m.\u001b[39mloc[seasons_df\u001b[38;5;241m.\u001b[39mduration \u001b[38;5;241m==\u001b[39m \u001b[38;5;28mstr\u001b[39m(seasons_max) \u001b[38;5;241m+\u001b[39m \u001b[38;5;124m'\u001b[39m\u001b[38;5;124mseasons\u001b[39m\u001b[38;5;124m'\u001b[39m, \u001b[38;5;124m'\u001b[39m\u001b[38;5;124mtitle\u001b[39m\u001b[38;5;124m'\u001b[39m]\n",
      "\u001b[1;31mNameError\u001b[0m: name 'seasons_df' is not defined"
     ]
    }
   ],
   "source": [
    "seasons_df.loc[seasons_df.duration == str(seasons_max) + 'seasons', 'title']"
   ]
  },
  {
   "cell_type": "code",
   "execution_count": null,
   "id": "55779948-d8b7-4262-ad0c-10029e726bff",
   "metadata": {},
   "outputs": [],
   "source": []
  },
  {
   "cell_type": "code",
   "execution_count": null,
   "id": "f2ef7574-824d-4c01-a70f-283008d2df3b",
   "metadata": {},
   "outputs": [],
   "source": []
  }
 ],
 "metadata": {
  "kernelspec": {
   "display_name": "Python 3 (ipykernel)",
   "language": "python",
   "name": "python3"
  },
  "language_info": {
   "codemirror_mode": {
    "name": "ipython",
    "version": 3
   },
   "file_extension": ".py",
   "mimetype": "text/x-python",
   "name": "python",
   "nbconvert_exporter": "python",
   "pygments_lexer": "ipython3",
   "version": "3.11.5"
  }
 },
 "nbformat": 4,
 "nbformat_minor": 5
}
