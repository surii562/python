{
 "cells": [
  {
   "cell_type": "raw",
   "id": "22cfced2-3bc2-43ea-ad13-8155d7fb7618",
   "metadata": {},
   "source": [
    "# jupyter lab you can have multiple code cells + markdown cells + raw text cells\n",
    "# but in simple python file which is .py file, it only supports python code not html and text"
   ]
  },
  {
   "cell_type": "code",
   "execution_count": 8,
   "id": "9e4d151b-6b6f-406c-8e34-116ef1f8f667",
   "metadata": {},
   "outputs": [
    {
     "name": "stdout",
     "output_type": "stream",
     "text": [
      "hello\n"
     ]
    }
   ],
   "source": [
    "# Interactive python notebook .ipynb, this is use for jupyter lab\n",
    "# simple python file will have an extension of .py\n",
    "# python comments are lines ignored by python interpreter\n",
    "\n",
    "print('hello')"
   ]
  },
  {
   "cell_type": "code",
   "execution_count": 9,
   "id": "c85a5dd9-f51e-426b-8b32-45de8d97e78c",
   "metadata": {
    "tags": []
   },
   "outputs": [
    {
     "name": "stdout",
     "output_type": "stream",
     "text": [
      "15.0\n",
      "7.0\n",
      "44.0\n",
      "2.75\n",
      "3.0\n",
      "2.0\n",
      "14641.0\n"
     ]
    }
   ],
   "source": [
    "# operators and datatypes\n",
    "# 1. arithmatic operator\n",
    "\n",
    "a = 11.0\n",
    "b = 4\n",
    "\n",
    "print(a + b) # plus\n",
    "print(a - b) # sub\n",
    "print(a * b) # multiplication\n",
    "print(a / b) # division\n",
    "print(a % b) # remainder\n",
    "print(a // b) # quotient, floor division\n",
    "print(a ** b) # to the power"
   ]
  },
  {
   "cell_type": "code",
   "execution_count": 10,
   "id": "ee30ca07-6084-4c8b-9903-cbbdb12451da",
   "metadata": {},
   "outputs": [
    {
     "name": "stdout",
     "output_type": "stream",
     "text": [
      "1.0\n"
     ]
    }
   ],
   "source": [
    "# 2. assignement operator, =, +=, -=, *=, /=\n",
    "a = 2\n",
    "a /= 2 # a = a / 2\n",
    "print(a)"
   ]
  },
  {
   "cell_type": "code",
   "execution_count": 11,
   "id": "7d438ba1-26e7-4c54-9885-fe3c75ddcbbd",
   "metadata": {},
   "outputs": [
    {
     "name": "stdout",
     "output_type": "stream",
     "text": [
      "<class 'float'>\n"
     ]
    }
   ],
   "source": [
    "a = 2.0\n",
    "print(type(a))"
   ]
  },
  {
   "cell_type": "code",
   "execution_count": 12,
   "id": "7501bb02-e08c-4737-bdef-9760c2f76a83",
   "metadata": {},
   "outputs": [
    {
     "name": "stdout",
     "output_type": "stream",
     "text": [
      "5.0\n"
     ]
    }
   ],
   "source": [
    "a = 3 # int\n",
    "b = 2.0 # float\n",
    "\n",
    "# all integers can be stored as float\n",
    "# but not all floats can be stored as integers\n",
    "# float is the higher data type\n",
    "# if python need to convert int to flaot -> it will auto convert it\n",
    "# why? since lower data type can be stored as a higher datatype\n",
    "# this automatic conversion of one data type (lower) to other data type(hihger) is called as Type Casting in Python\n",
    "\n",
    "print(a + b)"
   ]
  },
  {
   "cell_type": "code",
   "execution_count": 13,
   "id": "7be84ae5-b5f5-40b2-b160-5c7e2009cde4",
   "metadata": {},
   "outputs": [
    {
     "ename": "TypeError",
     "evalue": "can only concatenate str (not \"int\") to str",
     "output_type": "error",
     "traceback": [
      "\u001b[1;31m---------------------------------------------------------------------------\u001b[0m",
      "\u001b[1;31mTypeError\u001b[0m                                 Traceback (most recent call last)",
      "Cell \u001b[1;32mIn[13], line 4\u001b[0m\n\u001b[0;32m      1\u001b[0m a \u001b[38;5;241m=\u001b[39m \u001b[38;5;124m'\u001b[39m\u001b[38;5;124m5\u001b[39m\u001b[38;5;124m'\u001b[39m \u001b[38;5;66;03m# string\u001b[39;00m\n\u001b[0;32m      2\u001b[0m b \u001b[38;5;241m=\u001b[39m \u001b[38;5;241m3\u001b[39m \u001b[38;5;66;03m# integer\u001b[39;00m\n\u001b[1;32m----> 4\u001b[0m \u001b[38;5;28mprint\u001b[39m(\u001b[43ma\u001b[49m\u001b[43m \u001b[49m\u001b[38;5;241;43m+\u001b[39;49m\u001b[43m \u001b[49m\u001b[43mb\u001b[49m)\n",
      "\u001b[1;31mTypeError\u001b[0m: can only concatenate str (not \"int\") to str"
     ]
    }
   ],
   "source": [
    "a = '5' # string\n",
    "b = 3 # integer\n",
    "\n",
    "print(a + b)"
   ]
  },
  {
   "cell_type": "code",
   "execution_count": null,
   "id": "50045609-dda0-4787-8a5a-f90d51daef7c",
   "metadata": {},
   "outputs": [],
   "source": [
    "a = '5'\n",
    "b = 3\n",
    "\n",
    "print(a + b)"
   ]
  },
  {
   "cell_type": "markdown",
   "id": "c0e0028a-bece-4fe4-ae03-1258ec8cffca",
   "metadata": {
    "tags": []
   },
   "source": [
    " dunder method\n",
    "- A core python method that defines the behaviour of Python\n",
    "- Every dunder mehtod is predefined in Python. i.e. we can not create dunder method as users\n",
    "- It has a special look -> '__add__'"
   ]
  },
  {
   "cell_type": "code",
   "execution_count": null,
   "id": "5d718b96-06c6-4d06-b1d6-eb45ab6e6d40",
   "metadata": {},
   "outputs": [],
   "source": [
    "a = 4\n",
    "b = 3\n",
    "\n",
    "print(a + b)\n",
    "print(a.__add__(b)) # dunder method\n",
    "\n",
    "print(a - b)\n",
    "print(a.__sub__(b)) # dunder method"
   ]
  },
  {
   "cell_type": "code",
   "execution_count": null,
   "id": "0ba4e72e-47c7-4416-be4d-3ee9b3b2c66f",
   "metadata": {},
   "outputs": [],
   "source": [
    "print(type(a))"
   ]
  },
  {
   "cell_type": "code",
   "execution_count": null,
   "id": "9f5f6d50-01ee-45ef-974d-864a7ccd6714",
   "metadata": {},
   "outputs": [],
   "source": [
    "print(dir(a)) # directory"
   ]
  },
  {
   "cell_type": "code",
   "execution_count": null,
   "id": "f75c5ad7-9d1c-442d-b9b7-4d8a253c92da",
   "metadata": {},
   "outputs": [],
   "source": [
    "x = '7'\n",
    "y = '3'\n",
    "\n",
    "print(x - y)"
   ]
  },
  {
   "cell_type": "code",
   "execution_count": null,
   "id": "f49e52a4-ba6c-4f52-a8e2-7d47e1dc1c98",
   "metadata": {},
   "outputs": [],
   "source": [
    "print(dir(x))"
   ]
  },
  {
   "cell_type": "code",
   "execution_count": null,
   "id": "530aa564-ea0d-4445-a94e-0f12a2fdbffa",
   "metadata": {},
   "outputs": [],
   "source": [
    "# 3. Comparision operator -> >, <, <=, >=, ==, !=\n",
    "a = 4.3 # boolean\n",
    "b = 4\n",
    "\n",
    "print(a != b)"
   ]
  },
  {
   "cell_type": "code",
   "execution_count": null,
   "id": "f82b0fd1-fcf1-414a-9505-ce82ca6e925d",
   "metadata": {
    "tags": []
   },
   "outputs": [],
   "source": [
    "# 4. Logical operator -> and, or, not\n",
    "x = True\n",
    "y = False\n",
    "\n",
    "print(x and y)\n",
    "print(x or y)\n",
    "print(not x)"
   ]
  },
  {
   "cell_type": "code",
   "execution_count": null,
   "id": "bce09b7a-1d4f-4848-aedc-8831191e8f08",
   "metadata": {},
   "outputs": [],
   "source": [
    "# 5. bitwise operator\n",
    "x = 5\n",
    "y = 3\n",
    "\n",
    "print(x & y)\n",
    "print(x | y)"
   ]
  },
  {
   "cell_type": "code",
   "execution_count": null,
   "id": "20ba7c16-1bc2-4fa4-a079-d234a0f9b0c6",
   "metadata": {},
   "outputs": [],
   "source": [
    "# 6. Identity operator -> is, is not\n",
    "\n",
    "x = 5.0\n",
    "\n",
    "print(x is not 5)\n",
    "print(x == 5)"
   ]
  },
  {
   "cell_type": "code",
   "execution_count": null,
   "id": "3711d841-2d4b-4328-8048-8f58dccc72ec",
   "metadata": {
    "tags": []
   },
   "outputs": [],
   "source": [
    "# 7. Membership operator -> in, not in\n",
    "x = [1, '2', 3.0, True]\n",
    "print(2 in x)\n",
    "\n",
    "y = 'hello'\n",
    "print('e' in y)"
   ]
  },
  {
   "cell_type": "markdown",
   "id": "4f31bd4b-b356-4d8d-b3d6-519f6fa55759",
   "metadata": {},
   "source": [
    "## datatypes\n",
    "\n",
    "### fundamental datatypes are not iterable, can not be indexed, and do not have __getitem__ and __setitem__ , __iter__\n",
    "\n",
    "- int -> fundamental datatypes \n",
    "- float -> fundamental\n",
    "- boolean -> fundamental\n",
    "\n",
    "- string -> characters -> immutable -> do have the __getitem__, do not have __setitem__\n",
    "\n",
    "- tuple -> container datatype -> immutable -> do not have __setitem__\n",
    "- list -> container datatype -> mutable -> both __getitem__, __setitem__ are present\n",
    "- set -> exception -> it is mutable but do not have __setitem__\n",
    "- dictionary -> this is mutable"
   ]
  },
  {
   "cell_type": "markdown",
   "id": "2fa26917-cb38-444f-8509-0be070fcf747",
   "metadata": {},
   "source": [
    "# tuple"
   ]
  },
  {
   "cell_type": "code",
   "execution_count": null,
   "id": "3c80e67b-8c34-414f-a270-baa7e79d024a",
   "metadata": {},
   "outputs": [],
   "source": [
    "# anything that can be stored inside paranthesis () is called as a tuple\n",
    "# This is the default container -> even if we dont call it, it will be used by default\n",
    "# tuple are heterogeneous -> it can store different data types\n",
    "\n",
    "x = 4, 5, 6.0, 'ram', (2, 3, (4, 7, 8))\n",
    "print(x)"
   ]
  },
  {
   "cell_type": "code",
   "execution_count": null,
   "id": "fc7dd028-355a-4e7f-8fe6-83db65977e64",
   "metadata": {},
   "outputs": [],
   "source": [
    "# indexing -> go to the extact location and get the item\n",
    "# Python indexing starts from 0, in the reverse order python indexing starts from -1\n",
    "x[4][2][2] # multi-indexing"
   ]
  },
  {
   "cell_type": "code",
   "execution_count": null,
   "id": "93c0c5d5-1cf9-4b34-9490-fc56266917ff",
   "metadata": {},
   "outputs": [],
   "source": [
    "x = (1, 2, 3)\n",
    "y = (4,) # this is how we create tuple with single digit\n",
    "\n",
    "print(type(y))\n",
    "\n",
    "z = x + y # always expects both the data type to be same\n",
    "print(z)"
   ]
  },
  {
   "cell_type": "code",
   "execution_count": null,
   "id": "b53051d1-a9e9-481a-942f-519da563b2dc",
   "metadata": {},
   "outputs": [],
   "source": [
    "x"
   ]
  },
  {
   "cell_type": "code",
   "execution_count": null,
   "id": "73f988a1-aa80-445f-8568-47e607cad723",
   "metadata": {},
   "outputs": [],
   "source": [
    "x[2] # indexing"
   ]
  },
  {
   "cell_type": "code",
   "execution_count": null,
   "id": "355406ab-447c-4a81-858c-6b7c56368634",
   "metadata": {},
   "outputs": [],
   "source": [
    "print(type(x))"
   ]
  },
  {
   "cell_type": "code",
   "execution_count": null,
   "id": "d530b9f8-bb32-4815-8b90-dbab4a81bf55",
   "metadata": {},
   "outputs": [],
   "source": [
    "print(dir(x))"
   ]
  },
  {
   "cell_type": "code",
   "execution_count": null,
   "id": "2d850441-9286-4745-a676-264c36f725df",
   "metadata": {},
   "outputs": [],
   "source": [
    "x.__getitem__(2)"
   ]
  },
  {
   "cell_type": "code",
   "execution_count": null,
   "id": "51b2a664-598d-4321-afdc-e48f300c2e9e",
   "metadata": {},
   "outputs": [],
   "source": [
    "x[2]"
   ]
  },
  {
   "cell_type": "code",
   "execution_count": null,
   "id": "5f87de94-1bae-4500-aefe-ca9a2c20b6d9",
   "metadata": {},
   "outputs": [],
   "source": [
    "# x = 1000\n",
    "# print(dir(x))"
   ]
  },
  {
   "cell_type": "code",
   "execution_count": null,
   "id": "5ff7dfad-23f4-4af1-b581-060b725c26a2",
   "metadata": {},
   "outputs": [],
   "source": [
    "x = (10, 20, 30, 40, 50, 60, 70, 80)\n",
    "print(x[2])"
   ]
  },
  {
   "cell_type": "code",
   "execution_count": null,
   "id": "2e10441e-acac-4f9c-876c-58647d70f6ec",
   "metadata": {},
   "outputs": [],
   "source": [
    "# x[start:end:stepsize]\n",
    "# start -> inclusive\n",
    "# end -> exclusive\n",
    "# stepsize -> jump (1) -> default\n",
    "\n",
    "x[-6:-3:1]"
   ]
  },
  {
   "cell_type": "code",
   "execution_count": null,
   "id": "d726d44a-5428-48be-9411-e554dc1549da",
   "metadata": {},
   "outputs": [],
   "source": [
    "x[1:-2:2]"
   ]
  },
  {
   "cell_type": "code",
   "execution_count": null,
   "id": "1923aa65-7c22-4f7c-9e3d-91f56b5fb01d",
   "metadata": {},
   "outputs": [],
   "source": [
    "x[::-1] # negative step size"
   ]
  },
  {
   "cell_type": "code",
   "execution_count": null,
   "id": "52038eac-cce1-4bdd-90d6-ed5837c2188d",
   "metadata": {},
   "outputs": [],
   "source": [
    "x = (10, 20, 30, 40, 50, 60, 70, 80)"
   ]
  },
  {
   "cell_type": "code",
   "execution_count": null,
   "id": "e948a92b-43c9-42d5-aae7-96e6d6b632e8",
   "metadata": {},
   "outputs": [],
   "source": [
    "# loops\n",
    "# for loops -> __iter__"
   ]
  },
  {
   "cell_type": "code",
   "execution_count": null,
   "id": "5e75aceb-1f9a-4b6d-a61d-3179a4104fea",
   "metadata": {},
   "outputs": [],
   "source": [
    "print(dir(x))"
   ]
  },
  {
   "cell_type": "code",
   "execution_count": 1,
   "id": "c76d1323-d509-4ba0-a16f-2eb933c833ef",
   "metadata": {
    "tags": []
   },
   "outputs": [
    {
     "name": "stdout",
     "output_type": "stream",
     "text": [
      "10\n",
      "0\n",
      "20\n",
      "1\n",
      "30\n",
      "2\n",
      "40\n",
      "3\n",
      "50\n",
      "4\n",
      "60\n",
      "5\n",
      "70\n",
      "6\n",
      "80\n",
      "7\n",
      "hi\n"
     ]
    }
   ],
   "source": [
    "x = (10, 20, 30, 40, 50, 60, 70, 80)\n",
    "\n",
    "idx = 0\n",
    "for i in x:\n",
    "    print(i)\n",
    "    print(idx)\n",
    "    idx = idx + 1\n",
    "    \n",
    "print('hi')\n",
    "    \n",
    "# Here the print statement is part of for loop, as it is indented\n",
    "# indentation is 4 white spaces or 1 tab space, Python expects at least one statement to be part of the loop"
   ]
  },
  {
   "cell_type": "code",
   "execution_count": null,
   "id": "dc4de715-f0c8-443f-be31-7dbc0d314dc8",
   "metadata": {},
   "outputs": [],
   "source": [
    "print(len(x))"
   ]
  },
  {
   "cell_type": "code",
   "execution_count": null,
   "id": "1d15057f-ac7d-4ca0-9945-ffbbba7e6828",
   "metadata": {
    "tags": []
   },
   "outputs": [],
   "source": [
    "x = (10, 20, 30, 40, 50, 60, 70, 80)\n",
    "y = iter(x)\n",
    "print(y)"
   ]
  },
  {
   "cell_type": "code",
   "execution_count": null,
   "id": "63d3b918-369e-412d-8df5-4460cc43ce7d",
   "metadata": {
    "tags": []
   },
   "outputs": [],
   "source": [
    "z=next(y)\n",
    "print(z)"
   ]
  },
  {
   "cell_type": "code",
   "execution_count": null,
   "id": "35fab102-8541-48eb-917b-c3a06a9f4149",
   "metadata": {
    "tags": []
   },
   "outputs": [],
   "source": [
    "x = (10, 20, 30, 40, 50, 60, 70, 80)\n",
    "\n",
    "for i in x[2:-2]:\n",
    "    print(i + 1) # slicing along with the iteration"
   ]
  },
  {
   "cell_type": "code",
   "execution_count": null,
   "id": "c2507b8e-7b5d-41f2-b730-79fa70d60908",
   "metadata": {
    "tags": []
   },
   "outputs": [],
   "source": [
    "x = tuple(range(1,20))\n",
    "print(x)\n",
    "print(len(x))"
   ]
  },
  {
   "cell_type": "code",
   "execution_count": null,
   "id": "616e2e00-6891-4d9e-b8fa-21b43d03fb06",
   "metadata": {
    "tags": []
   },
   "outputs": [],
   "source": [
    "for i in x:\n",
    "    for j in range(1,20):\n",
    "        if i % 7 == 0 and j % 9 == 0:\n",
    "            print(i * j)\n",
    "            print(i - j)"
   ]
  },
  {
   "cell_type": "code",
   "execution_count": null,
   "id": "6d505115-2309-4dea-90bd-630cb1b543d1",
   "metadata": {},
   "outputs": [],
   "source": [
    "# mutability and immutability\n",
    "x = 1, 2, 3, 4\n",
    "print(x)\n",
    "\n",
    "y = [1, 2, 3, 4]\n",
    "print(y)"
   ]
  },
  {
   "cell_type": "code",
   "execution_count": null,
   "id": "8408a84e-b0bb-4bf1-9c50-7953b697152c",
   "metadata": {},
   "outputs": [],
   "source": [
    "x[2] = 30 # __setitem__ is not present in x"
   ]
  },
  {
   "cell_type": "code",
   "execution_count": null,
   "id": "e84d12cd-12ab-4869-a4cf-a658e406d6b3",
   "metadata": {},
   "outputs": [],
   "source": [
    "y[2] = 30 # __setitem__ is present"
   ]
  },
  {
   "cell_type": "code",
   "execution_count": null,
   "id": "977be47c-950b-4cc8-a32b-183246a95062",
   "metadata": {},
   "outputs": [],
   "source": [
    "y"
   ]
  },
  {
   "cell_type": "code",
   "execution_count": null,
   "id": "f9313a15-6dbc-4138-8f42-f70e654be62e",
   "metadata": {},
   "outputs": [],
   "source": [
    "print(dir(x)) # __setitem__ is not present # immutable"
   ]
  },
  {
   "cell_type": "code",
   "execution_count": null,
   "id": "a8a89479-9936-438a-8d59-e618b40930bb",
   "metadata": {},
   "outputs": [],
   "source": [
    "print(dir(y)) # __setitem__ is present in list"
   ]
  },
  {
   "cell_type": "code",
   "execution_count": null,
   "id": "475f87d0-259e-4e15-84b8-378330f52238",
   "metadata": {},
   "outputs": [],
   "source": [
    "x = 'hello'\n",
    "print(type(x))"
   ]
  },
  {
   "cell_type": "code",
   "execution_count": null,
   "id": "0b7575d6-91c5-4ce1-ae18-1c9d3ef77210",
   "metadata": {},
   "outputs": [],
   "source": [
    "x[1] # __getitem__"
   ]
  },
  {
   "cell_type": "code",
   "execution_count": null,
   "id": "611a3272-3001-4e6b-a12d-a63a3485308b",
   "metadata": {},
   "outputs": [],
   "source": [
    "x[1] = 'k' # __setitem__ is not present\n",
    "# Even your strings are immutable"
   ]
  },
  {
   "cell_type": "code",
   "execution_count": 1,
   "id": "384d936c-2887-4572-83dc-39069a385dd6",
   "metadata": {},
   "outputs": [],
   "source": [
    "x = (10, 20, 30, 40, 50, 10, 30, 30, 20)"
   ]
  },
  {
   "cell_type": "code",
   "execution_count": 2,
   "id": "5885af78-cf45-4e07-bbdf-cf4b1d69f596",
   "metadata": {},
   "outputs": [
    {
     "name": "stdout",
     "output_type": "stream",
     "text": [
      "['__add__', '__class__', '__class_getitem__', '__contains__', '__delattr__', '__dir__', '__doc__', '__eq__', '__format__', '__ge__', '__getattribute__', '__getitem__', '__getnewargs__', '__gt__', '__hash__', '__init__', '__init_subclass__', '__iter__', '__le__', '__len__', '__lt__', '__mul__', '__ne__', '__new__', '__reduce__', '__reduce_ex__', '__repr__', '__rmul__', '__setattr__', '__sizeof__', '__str__', '__subclasshook__', 'count', 'index']\n"
     ]
    }
   ],
   "source": [
    "print(dir(x))"
   ]
  },
  {
   "cell_type": "code",
   "execution_count": 3,
   "id": "10ba2410-602a-42e2-bf28-717eae27ba15",
   "metadata": {},
   "outputs": [
    {
     "name": "stdout",
     "output_type": "stream",
     "text": [
      "3\n"
     ]
    }
   ],
   "source": [
    "y = x.(30)\n",
    "print(y)"
   ]
  },
  {
   "cell_type": "code",
   "execution_count": null,
   "id": "2d61a302-88ba-447b-9c75-fd89d7a9c1b6",
   "metadata": {},
   "outputs": [],
   "source": [
    "x.index(30)"
   ]
  },
  {
   "cell_type": "code",
   "execution_count": 15,
   "id": "c35934f1-1247-4e85-bdac-2663c18b7d29",
   "metadata": {
    "tags": []
   },
   "outputs": [
    {
     "name": "stdout",
     "output_type": "stream",
     "text": [
      "2\n",
      "6\n",
      "7\n"
     ]
    }
   ],
   "source": [
    "# Write a python code that will return the index position of all 30s\n",
    "x = (10, 20, 30, 40, 50, 10, 30, 30, 20)\n",
    "\n",
    "idx = 0\n",
    "for i in x:\n",
    "    if i == 30:\n",
    "        z = x.index(i, idx)\n",
    "        print(z)\n",
    "        idx = z+1"
   ]
  },
  {
   "cell_type": "code",
   "execution_count": 16,
   "id": "aafa78ad-5a8f-45b0-923a-779e13a15068",
   "metadata": {},
   "outputs": [
    {
     "data": {
      "text/plain": [
       "6"
      ]
     },
     "execution_count": 16,
     "metadata": {},
     "output_type": "execute_result"
    }
   ],
   "source": [
    "x = (10, 20, 30, 40, 50, 10, 30, 30, 20)\n",
    "x.index(30, 3)"
   ]
  },
  {
   "cell_type": "markdown",
   "id": "61d9bedf-aa10-4710-a018-f1fec05f84d7",
   "metadata": {},
   "source": [
    "# list"
   ]
  },
  {
   "cell_type": "code",
   "execution_count": null,
   "id": "a676382d-dae2-4fbc-a236-cfa7a78e16bb",
   "metadata": {},
   "outputs": [],
   "source": [
    "# List\n",
    "\n",
    "x = [10, 20, 30, 40, 50, 60, 70, 80]\n",
    "print(type(x))"
   ]
  },
  {
   "cell_type": "code",
   "execution_count": null,
   "id": "a08fe713-4cb7-42ef-93b2-c345aa31bbc4",
   "metadata": {},
   "outputs": [],
   "source": []
  },
  {
   "cell_type": "code",
   "execution_count": null,
   "id": "10e097d5-1c6f-418a-a801-31db9b4d02b0",
   "metadata": {},
   "outputs": [],
   "source": [
    "x[4:-1] # slicing # this works exactly as tuple slicing"
   ]
  },
  {
   "cell_type": "code",
   "execution_count": null,
   "id": "1ef1547f-f281-4bb8-aff0-03bb95b5bf2b",
   "metadata": {},
   "outputs": [],
   "source": [
    "x[1:2:-1]"
   ]
  },
  {
   "cell_type": "code",
   "execution_count": null,
   "id": "4382c606-14fc-4bd1-9355-80df85e52a60",
   "metadata": {},
   "outputs": [],
   "source": [
    "x = [1, 2, 3]\n",
    "y = [4] # since list is not the default container, and we have to call list function explicitly, a single number list is possible\n",
    "\n",
    "print(x + y) # list concatenation"
   ]
  },
  {
   "cell_type": "code",
   "execution_count": null,
   "id": "fe13b39a-849c-4658-9048-9357ded4a819",
   "metadata": {},
   "outputs": [],
   "source": [
    "# list are mutable\n",
    "\n",
    "x[0] = 10 # this is possible for __setitem__ "
   ]
  },
  {
   "cell_type": "code",
   "execution_count": 17,
   "id": "7c282001-590c-4e4f-9c75-59450e0d3407",
   "metadata": {},
   "outputs": [
    {
     "name": "stdout",
     "output_type": "stream",
     "text": [
      "[1, 2, 3, 4, 5, 6, 7, 8, 9, 10, 11, 12, 13, 14, 15, 16, 17, 18, 19, 20, 21, 22, 23, 24, 25, 26, 27, 28, 29, 30, 31, 32, 33, 34, 35, 36, 37, 38, 39, 40, 41, 42, 43, 44, 45, 46, 47, 48, 49, 50, 51, 52, 53, 54, 55, 56, 57, 58, 59, 60, 61, 62, 63, 64, 65, 66, 67, 68, 69, 70, 71, 72, 73, 74, 75, 76, 77, 78, 79, 80, 81, 82, 83, 84, 85, 86, 87, 88, 89, 90, 91, 92, 93, 94, 95, 96, 97, 98, 99]\n"
     ]
    }
   ],
   "source": [
    "x = list(range(1, 100))\n",
    "print(x)"
   ]
  },
  {
   "cell_type": "code",
   "execution_count": 20,
   "id": "6c8ca284-5e82-400d-a9d6-3f8953225b89",
   "metadata": {
    "tags": []
   },
   "outputs": [
    {
     "name": "stdout",
     "output_type": "stream",
     "text": [
      "[7, 14, 21, 28, 35, 42, 49, 56, 63, 70, 77, 84, 91, 98]\n"
     ]
    }
   ],
   "source": [
    "y = []\n",
    "for i in x:\n",
    "    if i % 7 == 0:\n",
    "        y = y + [i]\n",
    "        #y.append(i)\n",
    "print(y)"
   ]
  },
  {
   "cell_type": "code",
   "execution_count": null,
   "id": "6f4a5d53-8176-4157-8b62-d9c899d11d21",
   "metadata": {},
   "outputs": [],
   "source": [
    "# add a number in a list\n",
    "# one way: do concatenation\n",
    "# second way: append"
   ]
  },
  {
   "cell_type": "code",
   "execution_count": null,
   "id": "b772c032-08a3-4cef-ac41-23e4bb5b6490",
   "metadata": {},
   "outputs": [],
   "source": [
    "print(dir(y))"
   ]
  },
  {
   "cell_type": "code",
   "execution_count": null,
   "id": "92dbe09d-3f10-4750-a377-04d766b93911",
   "metadata": {},
   "outputs": [],
   "source": [
    "y"
   ]
  },
  {
   "cell_type": "code",
   "execution_count": null,
   "id": "6c36b1e9-8cec-4b21-94c1-10a180c9b6e7",
   "metadata": {},
   "outputs": [],
   "source": [
    "z = y.append(100)"
   ]
  },
  {
   "cell_type": "code",
   "execution_count": null,
   "id": "cd786636-72e1-4b2a-8d42-8cd26463f305",
   "metadata": {},
   "outputs": [],
   "source": [
    "print(z) # nothing is returned, z does not have values as append is an in-place method\n",
    "# in-place method is something that changes the original variable"
   ]
  },
  {
   "cell_type": "code",
   "execution_count": null,
   "id": "16afff0d-a117-4b39-8120-188b1e1d893a",
   "metadata": {},
   "outputs": [],
   "source": [
    "y = []\n",
    "for i in range(1, 100, 3):\n",
    "    if i % 2 != 0:\n",
    "        y.append(i) # append adds the number to the END of the list\n",
    "print(y)"
   ]
  },
  {
   "cell_type": "code",
   "execution_count": null,
   "id": "4c08abb4-6433-4654-ad57-de8425e2a504",
   "metadata": {},
   "outputs": [],
   "source": [
    "y.clear() # removes all the elements from the list"
   ]
  },
  {
   "cell_type": "code",
   "execution_count": null,
   "id": "1aa465ae-f6cb-4343-b7dd-105b6bc99d7c",
   "metadata": {},
   "outputs": [],
   "source": [
    "y = [1, 7, 13, 19, 25, 31, 37]\n",
    "y"
   ]
  },
  {
   "cell_type": "code",
   "execution_count": null,
   "id": "73ab3087-b37b-4d6d-b1cd-d0cefebed062",
   "metadata": {},
   "outputs": [],
   "source": [
    "x = y.copy() # it creates a new memory and assign the new variable without disturbing the original memory"
   ]
  },
  {
   "cell_type": "code",
   "execution_count": null,
   "id": "7ffda916-ec01-4299-829f-6559de7f1846",
   "metadata": {},
   "outputs": [],
   "source": [
    "x[0] = 10"
   ]
  },
  {
   "cell_type": "code",
   "execution_count": null,
   "id": "ac2a6b73-d53f-408b-995b-7bc666ea1bbe",
   "metadata": {},
   "outputs": [],
   "source": [
    "x = [1, 2, 2, 3, 2, 4, 5, 6, 2, 1, 0]"
   ]
  },
  {
   "cell_type": "code",
   "execution_count": null,
   "id": "1d63597d-910b-435a-b98e-6118e3b346af",
   "metadata": {},
   "outputs": [],
   "source": [
    "x.count(2) # this returns how many times a particular value is present in the list"
   ]
  },
  {
   "cell_type": "code",
   "execution_count": null,
   "id": "976d3945-2874-4980-af13-d685c95ed054",
   "metadata": {},
   "outputs": [],
   "source": [
    "x"
   ]
  },
  {
   "cell_type": "code",
   "execution_count": null,
   "id": "dbef6da5-622d-4f3c-ac0f-f94ff4742822",
   "metadata": {},
   "outputs": [],
   "source": [
    "y"
   ]
  },
  {
   "cell_type": "code",
   "execution_count": null,
   "id": "6e23d095-818f-4fe6-a8d6-a31b66f3142f",
   "metadata": {},
   "outputs": [],
   "source": [
    "for i in y:\n",
    "    x.append(i) # this is what your extend does"
   ]
  },
  {
   "cell_type": "code",
   "execution_count": null,
   "id": "4c934a83-9329-4a4a-b7a9-61850b5fc6b0",
   "metadata": {},
   "outputs": [],
   "source": [
    "x"
   ]
  },
  {
   "cell_type": "code",
   "execution_count": null,
   "id": "2ca48eab-ca4c-43a2-bb2c-54bdae691316",
   "metadata": {},
   "outputs": [],
   "source": [
    "x"
   ]
  },
  {
   "cell_type": "code",
   "execution_count": null,
   "id": "f67f77e9-07d8-46bd-8bf6-5df94f7bc2e3",
   "metadata": {},
   "outputs": [],
   "source": [
    "y"
   ]
  },
  {
   "cell_type": "code",
   "execution_count": null,
   "id": "68c823d4-0e2b-42e5-8764-722d62c4c068",
   "metadata": {},
   "outputs": [],
   "source": [
    "x.extend(y) # the difference between append and extend is -> it does append but element wise for the iterable"
   ]
  },
  {
   "cell_type": "code",
   "execution_count": null,
   "id": "824d8aed-dd23-4807-b6a7-d811e5caca18",
   "metadata": {},
   "outputs": [],
   "source": [
    "x"
   ]
  },
  {
   "cell_type": "code",
   "execution_count": null,
   "id": "89882d9e-15ca-400f-b08c-bf83e1fa6fe0",
   "metadata": {},
   "outputs": [],
   "source": [
    "x = 'hello'\n",
    "y = [1, 2, 3, 4, 5]\n",
    "\n",
    "for i in x:\n",
    "    print(i)"
   ]
  },
  {
   "cell_type": "code",
   "execution_count": null,
   "id": "1b06a587-00a3-447a-9182-e7d84326e72a",
   "metadata": {},
   "outputs": [],
   "source": [
    "y.extend(x)"
   ]
  },
  {
   "cell_type": "code",
   "execution_count": null,
   "id": "5d1fe917-7f96-4bc6-a29e-2bba556039cf",
   "metadata": {},
   "outputs": [],
   "source": [
    "y"
   ]
  },
  {
   "cell_type": "code",
   "execution_count": null,
   "id": "9e9241a0-3904-46b3-b583-3b7142b92822",
   "metadata": {},
   "outputs": [],
   "source": [
    "x = [1, 2, 3, 4, 5]\n",
    "\n",
    "x.insert(2, 40) # after insertion is done 40 will be present in 2nd index pos"
   ]
  },
  {
   "cell_type": "code",
   "execution_count": null,
   "id": "0044953c-db36-4ae4-ba31-66e3b49530f7",
   "metadata": {},
   "outputs": [],
   "source": [
    "# what is the disadvantage in insert method of list?\n",
    "# time complexity - O(n)\n",
    "# if there are 100 numbers in the list and we insert something in the beginning, then 100 numbers have to change the position\n",
    "# the time complexity depends on all the numbers in the list"
   ]
  },
  {
   "cell_type": "code",
   "execution_count": null,
   "id": "a0c383ac-c621-42e5-97ed-7d31c459c853",
   "metadata": {},
   "outputs": [],
   "source": [
    "x"
   ]
  },
  {
   "cell_type": "code",
   "execution_count": null,
   "id": "bac0a048-c2bc-4ddd-bab2-ce304df52bd2",
   "metadata": {},
   "outputs": [],
   "source": [
    "y = x.pop(2)"
   ]
  },
  {
   "cell_type": "code",
   "execution_count": null,
   "id": "1ba6adb4-0ca6-412d-b41b-494aaf3ad645",
   "metadata": {},
   "outputs": [],
   "source": [
    "x"
   ]
  },
  {
   "cell_type": "code",
   "execution_count": null,
   "id": "7b84adc3-99e5-4c16-8760-9a4bd199c64a",
   "metadata": {},
   "outputs": [],
   "source": [
    "y"
   ]
  },
  {
   "cell_type": "code",
   "execution_count": null,
   "id": "3c6ba6e0-ccd3-423f-af32-61126be6d4fd",
   "metadata": {},
   "outputs": [],
   "source": [
    "x = [10, 20, 30, 40, 50, 10, 30, 30, 20, 10, 30, 30, 30, 30]\n",
    "x.remove(30)"
   ]
  },
  {
   "cell_type": "code",
   "execution_count": null,
   "id": "43f945da-5fb9-4f96-992e-7b090c667d2e",
   "metadata": {},
   "outputs": [],
   "source": [
    "x"
   ]
  },
  {
   "cell_type": "code",
   "execution_count": null,
   "id": "ca73db4c-2cad-4878-90f4-448ad824a9b4",
   "metadata": {},
   "outputs": [],
   "source": [
    "# remove all the 30 from the list"
   ]
  },
  {
   "cell_type": "code",
   "execution_count": null,
   "id": "4e840a6e-6b3c-41b5-9a66-18b2912d2438",
   "metadata": {},
   "outputs": [],
   "source": [
    "x.reverse()"
   ]
  },
  {
   "cell_type": "code",
   "execution_count": null,
   "id": "79a21992-a214-42c3-a362-d168856ffe37",
   "metadata": {},
   "outputs": [],
   "source": [
    "x"
   ]
  },
  {
   "cell_type": "code",
   "execution_count": 2,
   "id": "e04fd775-d8b1-477a-a1b5-ee85570bcdfc",
   "metadata": {
    "tags": []
   },
   "outputs": [
    {
     "name": "stdout",
     "output_type": "stream",
     "text": [
      "7\n"
     ]
    }
   ],
   "source": [
    "x = [10, 20, 30, 40, 50, 10, 30, 30, 20, 10, 30, 30, 30, 30]\n",
    "print(x.count(30))"
   ]
  },
  {
   "cell_type": "code",
   "execution_count": 4,
   "id": "c86c3e4d-7fca-479f-8934-ae1f76c97769",
   "metadata": {
    "tags": []
   },
   "outputs": [],
   "source": [
    "for i in range(x.count(30)):\n",
    "    x.remove(30)"
   ]
  },
  {
   "cell_type": "code",
   "execution_count": 5,
   "id": "b945c530-e1e0-45f5-8892-4638b5192ef9",
   "metadata": {
    "tags": []
   },
   "outputs": [
    {
     "data": {
      "text/plain": [
       "[10, 20, 40, 50, 10, 20, 10]"
      ]
     },
     "execution_count": 5,
     "metadata": {},
     "output_type": "execute_result"
    }
   ],
   "source": [
    "x"
   ]
  },
  {
   "cell_type": "code",
   "execution_count": 6,
   "id": "fe5c5264-9471-421e-9cb8-c5fb4cf50947",
   "metadata": {
    "tags": []
   },
   "outputs": [
    {
     "name": "stdout",
     "output_type": "stream",
     "text": [
      "[10, 20, 40, 50, 10, 20, 10]\n"
     ]
    }
   ],
   "source": [
    "for i in x:\n",
    "    if i == 30:\n",
    "        x.remove(i)\n",
    "print(x)"
   ]
  },
  {
   "cell_type": "code",
   "execution_count": null,
   "id": "c7f38b50-1037-492f-8679-fd400c168134",
   "metadata": {},
   "outputs": [],
   "source": [
    "x = list(range(100))\n",
    "y = []\n",
    "\n",
    "for i in x:\n",
    "    if i % 7 == 0:\n",
    "        y.append(i)\n",
    "        \n",
    "print(y)"
   ]
  },
  {
   "cell_type": "code",
   "execution_count": null,
   "id": "fed2d2d7-e557-47fe-b62a-0ca5ef6fb41f",
   "metadata": {
    "tags": []
   },
   "outputs": [],
   "source": [
    "# list comprehension\n",
    "# syntax = [o/p loop condition]\n",
    "\n",
    "y = [i for i in x if i % 5 == 0]\n",
    "# print(y)\n",
    "\n",
    "# if you have an if and else condition\n",
    "# then the syntax is : \n",
    "# [f(x) if else g(x) loop]\n",
    "# ternary operation\n",
    "\n",
    "y = [i if i % 5 == 0 else 'hi' for i in x]\n",
    "print(y)"
   ]
  },
  {
   "cell_type": "code",
   "execution_count": 21,
   "id": "8d253dd2-663c-4040-b42c-745d0adf0614",
   "metadata": {},
   "outputs": [
    {
     "name": "stdout",
     "output_type": "stream",
     "text": [
      "['w', 'e', ' ', 'a', 'r', 'd', 'o', 'i', 'n', 'g', 'l', 'f', 'h', 't', 'b', 'u', 'y', '?', 'I', 's']\n"
     ]
    }
   ],
   "source": [
    "x = [['we are doing good in life', 'what about you?'], ['India is growing']]\n",
    "y = []\n",
    "\n",
    "# write a python code, that will add all the unique characters to a new list y\n",
    "for i in x:\n",
    "    for j in i:\n",
    "        for k in j:\n",
    "            if k not in y:\n",
    "                y.append(k)\n",
    "print(y)"
   ]
  },
  {
   "cell_type": "code",
   "execution_count": 7,
   "id": "ca4353d0-1833-40e5-86e2-b0ca335024f9",
   "metadata": {
    "tags": []
   },
   "outputs": [
    {
     "name": "stdout",
     "output_type": "stream",
     "text": [
      "[(30, 2), (30, 6), (30, 7), (30, 10), (30, 11), (30, 12), (30, 13)]\n",
      "2\n",
      "6\n",
      "7\n",
      "10\n",
      "11\n",
      "12\n",
      "13\n"
     ]
    }
   ],
   "source": [
    "# enumeration\n",
    "x = [10, 20, 30, 40, 50, 10, 30, 30, 20, 10, 30, 30, 30, 30]\n",
    "y = []\n",
    "\n",
    "idx = 0\n",
    "for i in x:\n",
    "    if i == 30:\n",
    "        y.append((i,idx))\n",
    "    idx += 1\n",
    "\n",
    "print(y)\n",
    "\n",
    "# enumerate -> returns the value and the index position    \n",
    "for i, j in enumerate(x): \n",
    "    if j == 30:\n",
    "        print(i)"
   ]
  },
  {
   "cell_type": "code",
   "execution_count": 30,
   "id": "428870b8-90ea-426b-ac4f-326ff375444b",
   "metadata": {},
   "outputs": [
    {
     "name": "stdout",
     "output_type": "stream",
     "text": [
      "2\n",
      "3\n"
     ]
    }
   ],
   "source": [
    "for i, j in enumerate('hello'):\n",
    "    if j == 'l':\n",
    "        print(i)"
   ]
  },
  {
   "cell_type": "code",
   "execution_count": null,
   "id": "552e15cb-f35f-4fd1-9973-0ffa57c7e62d",
   "metadata": {
    "tags": []
   },
   "outputs": [],
   "source": [
    "# zip\n",
    "# write a python code to do element wise multiplication of x and y\n",
    "\n",
    "x = [10, 20, 30, 40, 50]\n",
    "y = [1, 2, 3, 4, 5]\n",
    "\n",
    "z = []\n",
    "idx = 0\n",
    "for i in range(len(x)):\n",
    "    z.append(x[i] * y[i])\n",
    "    \n",
    "print(z)"
   ]
  },
  {
   "cell_type": "code",
   "execution_count": null,
   "id": "2ed39a76-2060-41b1-a355-8dbc5ba1b6cc",
   "metadata": {},
   "outputs": [],
   "source": [
    "# z = []\n",
    "# for i in y:\n",
    "#     k = []\n",
    "#     for j in x:\n",
    "#         k.append(j * i)\n",
    "#     z.append(k)\n",
    "# print(z)"
   ]
  },
  {
   "cell_type": "code",
   "execution_count": 8,
   "id": "69c6b778-0eb6-4a66-8347-39193ea16a57",
   "metadata": {},
   "outputs": [
    {
     "name": "stdout",
     "output_type": "stream",
     "text": [
      "[10, 40, 90, 160, 250, 60, 70]\n"
     ]
    }
   ],
   "source": [
    "x = [10, 20, 30, 40, 50, 60, 70]\n",
    "y = [1, 2, 3, 4, 5]\n",
    "z = []\n",
    "\n",
    "if len(x) > len(y):\n",
    "    n = len(x) - len(y)\n",
    "    y.extend([1] * n)\n",
    "    for i in range(len(x)):\n",
    "        z.append(x[i] * y[i])\n",
    "else:\n",
    "    n = len(y) - len(x)\n",
    "    x.extend([1] * n)\n",
    "    for i in range(len(x)):\n",
    "        z.append(x[i] * y[i])\n",
    "        \n",
    "print(z)"
   ]
  },
  {
   "cell_type": "code",
   "execution_count": null,
   "id": "b07270fe-4c67-46ee-b9ac-d960bf79f219",
   "metadata": {},
   "outputs": [],
   "source": [
    "x = [1] * 2\n",
    "x"
   ]
  },
  {
   "cell_type": "code",
   "execution_count": null,
   "id": "4b0eab4f-3102-42cd-bf7a-de3cb58e3746",
   "metadata": {},
   "outputs": [],
   "source": [
    "x = [10, 20, 30, 40, 50, 60, 70]\n",
    "y = [1, 2, 3, 4, 5]\n",
    "z = [2, 3, 5]\n",
    "a = []\n",
    "\n",
    "for i, j, k in zip(x, y, z):\n",
    "    a.append(i * j * k)\n",
    "    \n",
    "print(a)"
   ]
  },
  {
   "cell_type": "code",
   "execution_count": null,
   "id": "065fe151-471f-49a6-b3d2-7d3feeed14cf",
   "metadata": {},
   "outputs": [],
   "source": [
    "x = dict(x = 5, y = 6, z = 7)\n",
    "x"
   ]
  },
  {
   "cell_type": "markdown",
   "id": "2851393c-5141-4df0-ab9b-89153992f019",
   "metadata": {},
   "source": [
    "# Strings"
   ]
  },
  {
   "cell_type": "code",
   "execution_count": null,
   "id": "0e69fd72-bac2-4c3f-a564-7e4607761ecd",
   "metadata": {},
   "outputs": [],
   "source": [
    "x = \"hello world\"\n",
    "print(type(x))"
   ]
  },
  {
   "cell_type": "code",
   "execution_count": null,
   "id": "26dfee72-7d0a-4f34-9d29-16823074a163",
   "metadata": {},
   "outputs": [],
   "source": [
    "print(dir(x))"
   ]
  },
  {
   "cell_type": "code",
   "execution_count": null,
   "id": "41eda1f0-d8d6-4c7d-821d-f2879750d4c9",
   "metadata": {
    "tags": []
   },
   "outputs": [],
   "source": [
    "x = 'we are doing good'\n",
    "for i in x:\n",
    "    print(i)"
   ]
  },
  {
   "cell_type": "code",
   "execution_count": null,
   "id": "074cfb8c-881f-4228-907d-a4a05e98699c",
   "metadata": {},
   "outputs": [],
   "source": [
    "x = 'we are doing good'\n",
    "print(x[0])"
   ]
  },
  {
   "cell_type": "code",
   "execution_count": null,
   "id": "2b30e971-eb17-44be-916d-5c96a39a6e4d",
   "metadata": {
    "tags": []
   },
   "outputs": [],
   "source": [
    "x[0] = 'k'"
   ]
  },
  {
   "cell_type": "code",
   "execution_count": null,
   "id": "61b3a321-19af-4337-b950-39524d8f26b3",
   "metadata": {},
   "outputs": [],
   "source": [
    "x = 'we are doing good'\n",
    "y = x.capitalize()\n",
    "print(y)"
   ]
  },
  {
   "cell_type": "code",
   "execution_count": null,
   "id": "58cf6b29-f000-4b52-b868-85e1f9fd930e",
   "metadata": {},
   "outputs": [],
   "source": [
    "x = 'we are doing good'\n",
    "? x.casefold"
   ]
  },
  {
   "cell_type": "code",
   "execution_count": null,
   "id": "2f2ff33c-3fc7-4ace-b076-754eb04068ee",
   "metadata": {},
   "outputs": [],
   "source": [
    "'India'.casefold() == 'indiA'.casefold()"
   ]
  },
  {
   "cell_type": "code",
   "execution_count": null,
   "id": "018970bc-0ee4-46ce-a5ac-71d5b01865b9",
   "metadata": {},
   "outputs": [],
   "source": [
    "x = 'hel$lo'\n",
    "# print(len(x))\n",
    "y = x.center(10, '$') # how we add extra characters to the string\n",
    "print(y)"
   ]
  },
  {
   "cell_type": "code",
   "execution_count": null,
   "id": "59879bba-9f64-490c-8aa9-cd753a67a4ca",
   "metadata": {},
   "outputs": [],
   "source": [
    "y.strip('$') # this is how you remove"
   ]
  },
  {
   "cell_type": "code",
   "execution_count": null,
   "id": "251f9451-a827-4d6c-9bda-1304dc0ba94a",
   "metadata": {},
   "outputs": [],
   "source": [
    "x = 'hello we are doing good, hello, hello'\n",
    "x.count('llo', 15)"
   ]
  },
  {
   "cell_type": "code",
   "execution_count": 10,
   "id": "b2f0ddb9-14be-4328-8c74-e7d09a04fcc7",
   "metadata": {},
   "outputs": [
    {
     "data": {
      "text/plain": [
       "True"
      ]
     },
     "execution_count": 10,
     "metadata": {},
     "output_type": "execute_result"
    }
   ],
   "source": [
    "x = 'hello we are doing good, hello, hello'\n",
    "x.endswith('o')"
   ]
  },
  {
   "cell_type": "code",
   "execution_count": 11,
   "id": "c056572b-7379-470c-84ef-3fafe2801fcc",
   "metadata": {
    "tags": []
   },
   "outputs": [
    {
     "data": {
      "text/plain": [
       "32"
      ]
     },
     "execution_count": 11,
     "metadata": {},
     "output_type": "execute_result"
    }
   ],
   "source": [
    "x = 'hello we are doing good, hello, hello'\n",
    "x.find('hello', 30)"
   ]
  },
  {
   "cell_type": "code",
   "execution_count": 12,
   "id": "f7db0ac2-67f8-49c0-b64a-b75c42c02fc8",
   "metadata": {
    "tags": []
   },
   "outputs": [
    {
     "name": "stdout",
     "output_type": "stream",
     "text": [
      "[0, 25, 32]\n"
     ]
    }
   ],
   "source": [
    "# write a python code, that will return the index position of all 'hello'\n",
    "y = []\n",
    "s = 'hello'\n",
    "idx = 0\n",
    "for i in range(x.count(s)):\n",
    "    rdx = x.find(s, idx)\n",
    "    y.append(rdx)\n",
    "    idx = rdx + len(s)\n",
    "print(y)"
   ]
  },
  {
   "cell_type": "code",
   "execution_count": 24,
   "id": "84839d69-8e22-4843-afd8-5cd74873104e",
   "metadata": {},
   "outputs": [],
   "source": [
    "# write a python code that will print the below pattern\n",
    "# *\n",
    "# **\n",
    "# ***\n",
    "# ****\n",
    "# *****\n",
    "# ****\n",
    "# ***\n",
    "# **\n",
    "# *\n"
   ]
  },
  {
   "cell_type": "code",
   "execution_count": 13,
   "id": "327a2c52-c841-42d8-afae-7880a48da196",
   "metadata": {},
   "outputs": [
    {
     "name": "stdout",
     "output_type": "stream",
     "text": [
      "*\n",
      "**\n",
      "***\n",
      "****\n",
      "*****\n",
      "****\n",
      "***\n",
      "**\n",
      "*\n"
     ]
    }
   ],
   "source": [
    "for i in range(1, 6, 1):\n",
    "    print(i * '*')\n",
    "for j in range(4, 0, -1):\n",
    "    print(j * '*')"
   ]
  },
  {
   "cell_type": "code",
   "execution_count": 38,
   "id": "93ac7d9c-e28b-4abe-a56a-811195a3d32d",
   "metadata": {},
   "outputs": [
    {
     "name": "stdout",
     "output_type": "stream",
     "text": [
      "   *   \n",
      "  ***  \n",
      " ***** \n",
      "*******\n",
      " ***** \n",
      "  ***  \n",
      "   *   \n"
     ]
    }
   ],
   "source": [
    " #    *\n",
    " #   ***\n",
    " #  *****\n",
    " # *******\n",
    " #  *****\n",
    " #   ***\n",
    " #    *\n",
    "    \n",
    "for i in range(1, 8, 2):\n",
    "    print((i * '*').center(7))\n",
    "for i in range(5, 0, -2):\n",
    "    print((i * '*').center(7))"
   ]
  },
  {
   "cell_type": "code",
   "execution_count": 49,
   "id": "a1b295b8-6434-4fac-80d6-9ae8f133a999",
   "metadata": {},
   "outputs": [
    {
     "data": {
      "text/plain": [
       "25"
      ]
     },
     "execution_count": 51,
     "metadata": {},
     "output_type": "execute_result"
    }
   ],
   "source": [
    "x = 'hello we are doing good, hello, hello'\n",
    "x.index('java')"
   ]
  },
  {
   "cell_type": "code",
   "execution_count": null,
   "id": "5e8420fb-e7b0-487b-bf2c-e527d954cbda",
   "metadata": {
    "tags": []
   },
   "outputs": [],
   "source": [
    "x = 'hello,world'\n",
    "y = '123'\n",
    "# x.isdigit()\n",
    "print(y.isdigit())"
   ]
  },
  {
   "cell_type": "code",
   "execution_count": null,
   "id": "dc146dd5-02be-40af-a5a8-b5b10bc54488",
   "metadata": {},
   "outputs": [],
   "source": [
    "x = 'HELLO we are doing good, hello, hello'\n",
    "x.upper()"
   ]
  },
  {
   "cell_type": "code",
   "execution_count": null,
   "id": "ab048f0c-2637-4ab8-8b33-a6cb23da9885",
   "metadata": {},
   "outputs": [],
   "source": [
    "x = '$$$$hello we are doing $$$$ good, hello, hello$$$$'\n",
    "x.strip('$')"
   ]
  },
  {
   "cell_type": "code",
   "execution_count": null,
   "id": "95323252-f78a-4e1e-965d-63f4eae244f1",
   "metadata": {},
   "outputs": [],
   "source": [
    "x.replace('$', '')"
   ]
  },
  {
   "cell_type": "code",
   "execution_count": 54,
   "id": "0ce81c03-08e5-4873-80f6-96f9e9f92b19",
   "metadata": {},
   "outputs": [
    {
     "data": {
      "text/plain": [
       "'hekllllo'"
      ]
     },
     "execution_count": 54,
     "metadata": {},
     "output_type": "execute_result"
    }
   ],
   "source": [
    "x = 'helllllo'\n",
    "x.replace('l', 'k',1)"
   ]
  },
  {
   "cell_type": "code",
   "execution_count": null,
   "id": "0563393a-de69-40cd-872d-8304bdc4eb9c",
   "metadata": {},
   "outputs": [],
   "source": [
    "# x = 'replace'\n",
    "# y = 'replac$'\n",
    "\n",
    "x[-1] = '$' # this cant be done as strings are immutable"
   ]
  },
  {
   "cell_type": "code",
   "execution_count": null,
   "id": "87526f3f-cae7-4448-9928-0e1ce760db48",
   "metadata": {
    "tags": []
   },
   "outputs": [],
   "source": [
    "x = 'hello'\n",
    "print(dir(x))"
   ]
  },
  {
   "cell_type": "code",
   "execution_count": 55,
   "id": "901fc211-64fb-467f-b18e-e939bd2d6e3e",
   "metadata": {
    "tags": []
   },
   "outputs": [
    {
     "name": "stdout",
     "output_type": "stream",
     "text": [
      "Object ` x.encode()` not found.\n"
     ]
    }
   ],
   "source": [
    "? x.encode()"
   ]
  },
  {
   "cell_type": "code",
   "execution_count": 2,
   "id": "b65001ac-d70a-4612-adff-4d8c1b54c502",
   "metadata": {
    "tags": []
   },
   "outputs": [
    {
     "name": "stdout",
     "output_type": "stream",
     "text": [
      "   *   \n",
      "  ***  \n",
      " ***** \n",
      "*******\n",
      " ***** \n",
      "  ***  \n",
      "   *   \n"
     ]
    }
   ],
   "source": [
    " #    *\n",
    " #   ***\n",
    " #  *****\n",
    " # *******\n",
    " #  *****\n",
    " #   ***\n",
    " #    *\n",
    "    \n",
    "for i in range(1, 8, 2):\n",
    "    print((i * '*').center(7))\n",
    "for i in range(5, 0, -2):\n",
    "    print((i * '*').center(7))"
   ]
  },
  {
   "cell_type": "code",
   "execution_count": null,
   "id": "a2ec1a4d-d775-4e73-aa91-582e3cf8dc63",
   "metadata": {
    "tags": []
   },
   "outputs": [],
   "source": [
    "x = \"replace\"\n",
    "y = \"replac$\"\n",
    "\n",
    "x.replace('e', '$').replace('$', 'e',1)"
   ]
  },
  {
   "cell_type": "code",
   "execution_count": 56,
   "id": "b86c4731-0035-4daa-84a4-92e3b4dc74e2",
   "metadata": {
    "tags": []
   },
   "outputs": [
    {
     "data": {
      "text/plain": [
       "'aeroplanee$$'"
      ]
     },
     "execution_count": 56,
     "metadata": {},
     "output_type": "execute_result"
    }
   ],
   "source": [
    "x = 'aeroplaneeee'\n",
    "x.replace('e', '$').replace('$', 'e',3)"
   ]
  },
  {
   "cell_type": "code",
   "execution_count": null,
   "id": "000a45ff-0e56-4365-abc1-e7e3b1793176",
   "metadata": {},
   "outputs": [],
   "source": [
    "y = list(x)"
   ]
  },
  {
   "cell_type": "code",
   "execution_count": null,
   "id": "73e8794c-0fd6-4755-adca-222d7c314445",
   "metadata": {},
   "outputs": [],
   "source": [
    "y[-2] = '$'"
   ]
  },
  {
   "cell_type": "code",
   "execution_count": null,
   "id": "81ef326e-7101-4441-b627-fcfd16e8cab5",
   "metadata": {},
   "outputs": [],
   "source": [
    "''.join(y)"
   ]
  },
  {
   "cell_type": "code",
   "execution_count": null,
   "id": "f1293b3d-0c05-46f7-bca6-f6c2c4f111e4",
   "metadata": {
    "tags": []
   },
   "outputs": [],
   "source": [
    "x = 'hello world ,we are so good'\n",
    "y = x.split(',')\n",
    "print(y)"
   ]
  },
  {
   "cell_type": "code",
   "execution_count": 60,
   "id": "89e77a2c-c894-4d3f-9f3a-76135ffc0ff6",
   "metadata": {},
   "outputs": [
    {
     "name": "stdout",
     "output_type": "stream",
     "text": [
      "Counter({'l': 7, ' ': 5, 'o': 4, 'w': 3, 'a': 3, 'h': 2, 'e': 2, 't': 2, 'u': 2, 'r': 1, 'd': 1, 'i': 1, 's': 1, 'b': 1, 'y': 1, '?': 1})\n",
      "---------------------------\n",
      "[('h', 2), ('e', 2), ('l', 7), ('o', 4), (' ', 5), ('w', 3), ('r', 1), ('d', 1), ('a', 3), ('i', 1), ('s', 1), ('t', 2), ('b', 1), ('u', 2), ('y', 1), ('?', 1)]\n"
     ]
    }
   ],
   "source": [
    "# Write a python code that will return the list of tuple containing characters with its count in following list of strings\n",
    "x = ['hello world', 'all is well', 'what about you?']\n",
    "\n",
    "# This is the trivial solution if you know higher data types such as Counter\n",
    "from collections import Counter\n",
    "y = Counter()\n",
    "for i in x:\n",
    "    y = y + Counter(i)\n",
    "print(y)\n",
    "\n",
    "print('---------------------------')\n",
    "\n",
    "# The question is how to get the solution without using any higher data types\n",
    "\n",
    "z = []\n",
    "for i in x:\n",
    "    k = list(i)\n",
    "    z.extend(k)\n",
    "    \n",
    "m = []\n",
    "l = []\n",
    "for j in z:\n",
    "    if j not in l:\n",
    "        l.append(j)\n",
    "        m.append((j, z.count(j)))\n",
    "print(m)"
   ]
  },
  {
   "cell_type": "markdown",
   "id": "4bb962d4-12ed-4314-be0f-74603ace34e7",
   "metadata": {},
   "source": [
    "# Regular Expression"
   ]
  },
  {
   "cell_type": "code",
   "execution_count": null,
   "id": "4258bbc0-d5e5-4cde-a8b3-d441eefe8bda",
   "metadata": {},
   "outputs": [],
   "source": [
    "# identify patterns in the text\n",
    "\n",
    "x = \"\"\"We are doing good, \n",
    "abc@gmail.com, \n",
    "\n",
    "what about you?\n",
    "\n",
    "333.121.3214\n",
    "\n",
    "23.321.1234\n",
    "\n",
    "how are you doing?\n",
    "\n",
    "584.546.7654\n",
    "\n",
    "xyz@yahoo.co.in\"\"\"\n",
    "\n",
    "\n",
    "# \\w -> it will match [a-zA-Z0-9_]\n",
    "# \\W -> negation of \\w -> It will match everything that \\w will not match\n",
    "\n",
    "# + -> one or more\n",
    "# * -> zero or more\n",
    "# ? -> zero or one\n",
    "\n",
    "# \\d -> it will match [0-9]\n",
    "# \\D -> it will match ~\\d\n",
    "\n",
    "# . -> match everything\n",
    "# if you want to match the literal . -> \\.\n",
    "\n",
    "# {} -> how many times -> count\n",
    "\n",
    "# \\s -> whitespaces, tab spaces, new line characters\n",
    "# \\S -> negation of \\s\n",
    "# | -> or option\n",
    "# () -> grouping, \n",
    "\n",
    "# [] -> all things that I want to match, group of patterns"
   ]
  },
  {
   "cell_type": "code",
   "execution_count": 33,
   "id": "4a4d9233-1752-4192-b219-ab505a5cfb1c",
   "metadata": {
    "tags": []
   },
   "outputs": [
    {
     "name": "stdout",
     "output_type": "stream",
     "text": [
      "<re.Match object; span=(1, 3), match='he'>\n",
      "<re.Match object; span=(4, 9), match='WORLD'>\n",
      "<re.Match object; span=(10, 12), match='is'>\n",
      "<re.Match object; span=(13, 21), match='changing'>\n",
      "<re.Match object; span=(26, 30), match='123_'>\n"
     ]
    }
   ],
   "source": [
    "y = '\\the WORLD is changing *&# 123_'\n",
    "import re\n",
    "patterns = re.compile(r'\\w+')\n",
    "matches = patterns.finditer(y)\n",
    "for match in matches:\n",
    "    print(match)"
   ]
  },
  {
   "cell_type": "code",
   "execution_count": null,
   "id": "f17a59cb-cd68-42ea-8224-fd22246229f3",
   "metadata": {},
   "outputs": [],
   "source": [
    "x = \"\"\"We are doing good,\n",
    "\n",
    "abc@gmail.com,\n",
    "\n",
    "ram123_@lodgy.ai\n",
    "\n",
    "umesh_sidhappa@gmail.co.uk\n",
    "\n",
    "what about you?\n",
    "\n",
    "333.121.3214\n",
    "\n",
    "23.321.1234\n",
    "\n",
    "how are you doing?\n",
    "\n",
    "584*546*7654\n",
    "\n",
    "xyz@yahoo.co.in\"\"\""
   ]
  },
  {
   "cell_type": "code",
   "execution_count": null,
   "id": "fd2faab9-aac3-4192-a391-38ea498a23c6",
   "metadata": {},
   "outputs": [],
   "source": [
    "import re\n",
    "pattern = re.compile(r'\\d\\d\\d\\*\\d\\d\\d\\*\\d\\d\\d\\d')\n",
    "matches = pattern.finditer(x)\n",
    "for match in matches:\n",
    "    print(match)"
   ]
  },
  {
   "cell_type": "code",
   "execution_count": null,
   "id": "22ead24e-083b-45ef-a075-30d0c1f77f92",
   "metadata": {},
   "outputs": [],
   "source": [
    "import re\n",
    "pattern = re.compile(r'\\d{3}\\.\\d{3}\\.\\d{4}')\n",
    "matches = pattern.finditer(x)\n",
    "for match in matches:\n",
    "    print(match)"
   ]
  },
  {
   "cell_type": "code",
   "execution_count": null,
   "id": "0042f748-4c6c-4b0b-bf4c-29a4dcfd1ede",
   "metadata": {},
   "outputs": [],
   "source": [
    "x = \"\"\"We are doing good,\n",
    "abc@gmail.com,\n",
    "ram123_@lodgy.ai\n",
    "umesh_sidhappa@gmail.co.uk\n",
    "what about you?\n",
    "333.121.3214\n",
    "23.321.1234\n",
    "how are you doing?\n",
    "584*546*7654\n",
    "xyz@yahoo.co.in\"\"\"\n",
    "\n",
    "import re\n",
    "pattern = re.compile(r'\\w+@\\w+\\.(com|co.uk|ai|co.in)')\n",
    "matches = pattern.finditer(x)\n",
    "for match in matches:\n",
    "    print(match)"
   ]
  },
  {
   "cell_type": "code",
   "execution_count": null,
   "id": "bc7c8c74-b53a-4692-853b-a63de1524539",
   "metadata": {},
   "outputs": [],
   "source": [
    "x = \"\"\"We are doing good,\n",
    "abc@gmail.com,\n",
    "ram123_@lodgy.ai\n",
    "umesh_sidhappa@gmail.co.uk\n",
    "what about you?\n",
    "333.121.3214\n",
    "23.321.1234\n",
    "how are you doing?\n",
    "584*546*7654\n",
    "xyz@yahoo.co.in\n",
    "i-will-kill-you@traitor\n",
    "\"\"\"\n",
    "\n",
    "import re\n",
    "pattern = re.compile(r'\\w+@\\w+\\.\\w+(\\.\\w+)?')\n",
    "# pattern = re.compile(r'\\S+@\\S+')\n",
    "matches = pattern.finditer(x)\n",
    "for match in matches:\n",
    "    print(match)"
   ]
  },
  {
   "cell_type": "code",
   "execution_count": null,
   "id": "ef716415-c280-4600-9cbc-474df9eb0846",
   "metadata": {},
   "outputs": [],
   "source": [
    "x = '''\n",
    "https://www.google.co.in\n",
    "http://yahoo.com\n",
    "www.openai.us\n",
    "http://www.google.co.uk\n",
    "www.ikea.co.in\n",
    "uiih(hfek)$://ljfiif#ughhg&&\n",
    "'''\n",
    "\n",
    "import re\n",
    "# pattern = re.compile(r'(https?)?\\S+(www)?\\S+\\.\\S+')\n",
    "pattern = re.compile(r'[\\w.://]+')\n",
    "matches = pattern.finditer(x)\n",
    "for match in matches:\n",
    "    print(match)"
   ]
  },
  {
   "cell_type": "code",
   "execution_count": null,
   "id": "975e96b5-4d24-4dae-905b-d86a998fc560",
   "metadata": {},
   "outputs": [],
   "source": [
    "# r -> raw string literal\n",
    "\n",
    "print(r'we are doing good in life \\t what about you?')"
   ]
  },
  {
   "cell_type": "code",
   "execution_count": null,
   "id": "40d14471-b432-47ed-92e7-9872c4638029",
   "metadata": {},
   "outputs": [],
   "source": [
    "x = 'we are all above the common fact that all is not all good always and all that is good always is all not bad'\n",
    "import re\n",
    "pattern = re.compile(r'(all|always)')\n",
    "matches = pattern.finditer(x)\n",
    "for match in matches:\n",
    "    print(match)"
   ]
  },
  {
   "cell_type": "code",
   "execution_count": 65,
   "id": "f1f4f715-13eb-4675-a3e8-0ecaf517318c",
   "metadata": {
    "tags": []
   },
   "outputs": [
    {
     "name": "stdout",
     "output_type": "stream",
     "text": [
      "!\"#$%&'()*+,-./:;<=>?@[\\]^_`{|}~\n",
      "['we are doing good', 'how about you']\n"
     ]
    }
   ],
   "source": [
    "x = ['w12e a$re do8in*g goo00d', 'HO^w abo3ut y7&ou?']\n",
    "\n",
    "import string\n",
    "sc = string.punctuation\n",
    "print(sc)\n",
    "y = []\n",
    "for i in x:\n",
    "    k = ''\n",
    "    for j in i:\n",
    "        if j not in sc and not j.isdigit():\n",
    "            k = k + j.lower()\n",
    "    y.append(k)\n",
    "print(y)"
   ]
  },
  {
   "cell_type": "code",
   "execution_count": null,
   "id": "593258a8-6d3d-4e52-b211-caeacb201d54",
   "metadata": {},
   "outputs": [
    {
     "name": "stdout",
     "output_type": "stream",
     "text": [
      "[('gautam', 21), ('gita', 21), ('hari', 22.2), ('raghav', 22.3), ('ram', 22.3), ('ramesh', 22.2)]\n"
     ]
    }
   ],
   "source": [
    "x = [('ram', 22.3), ('ramesh', 22.2), ('raghav', 22.3), ('gita', 21), ('gautam', 21), ('hari', 22.2)]\n",
    "\n",
    "# each tuple contains the name of the runner and time in which they completed the race\n",
    "# sort x such that -> lowest time should be first index position in the list\n",
    "# if two runners have the same time then they should be shorted by their name\n",
    "\n",
    "x.sort()\n",
    "print(x)"
   ]
  },
  {
   "cell_type": "markdown",
   "id": "4658d7ca-d841-4f18-ae11-926c112a956c",
   "metadata": {},
   "source": [
    "# set"
   ]
  },
  {
   "cell_type": "code",
   "execution_count": null,
   "id": "cb5bae2e-a191-4fdd-bed0-d952d2c5f52d",
   "metadata": {},
   "outputs": [],
   "source": [
    "x = {1, 2, 3, 4}\n",
    "y = {5, 6, 7, 8, 1, 2, 5, 6}\n",
    "\n",
    "# by definition a set is a collection of unique numbers\n",
    "# in python sets are wrapped around {}\n",
    "\n",
    "print(x)\n",
    "print(y) # duplicate values are removed to convert it to set"
   ]
  },
  {
   "cell_type": "code",
   "execution_count": null,
   "id": "f56f5f9b-4ea1-47ce-9b41-ba085a295dae",
   "metadata": {},
   "outputs": [],
   "source": [
    "print(x | y) # union -> all values\n",
    "print(x & y) # intersection -> common values"
   ]
  },
  {
   "cell_type": "code",
   "execution_count": null,
   "id": "58a77112-a4a7-4fe6-b6bd-1dd230b35a8c",
   "metadata": {},
   "outputs": [],
   "source": [
    "print(x - y) # the values that are unique to x i.e. x  without (x&y)\n",
    "print(y - x) # the values which are unique to y i.e. y without (x&y)"
   ]
  },
  {
   "cell_type": "code",
   "execution_count": null,
   "id": "d0f72fb2-42cf-49da-854a-153d5a4c18f4",
   "metadata": {},
   "outputs": [],
   "source": [
    "print(dir(x))"
   ]
  },
  {
   "cell_type": "code",
   "execution_count": null,
   "id": "0e555cbc-c6e6-4993-8b8f-88ed3d85479c",
   "metadata": {},
   "outputs": [],
   "source": [
    "x[0] # we can not index the set since __getitem__ is not present\n",
    "# if __getitem__ is not present then __setitem__ should also be not present\n",
    "\n",
    "# does that mean set is mutable or immutable?\n",
    "# Ans: set is mutable. Why? Because of update method available"
   ]
  },
  {
   "cell_type": "code",
   "execution_count": null,
   "id": "a0d2c15a-4da1-4a2b-856f-f39cd58437db",
   "metadata": {},
   "outputs": [],
   "source": [
    "print(x)\n",
    "x.update(y) # it is very simillar to extend method of list\n",
    "print(x)"
   ]
  },
  {
   "cell_type": "markdown",
   "id": "245cd424-6978-469f-b7d9-de5a2923bfd1",
   "metadata": {},
   "source": [
    "> This udpate method is the reason why set is called mutable where as by defintion since __setitem__ dunder method is not available it should be immutable."
   ]
  },
  {
   "cell_type": "markdown",
   "id": "4ea3e984-bd9d-4a2c-a457-ca924ca68c69",
   "metadata": {},
   "source": [
    "# dictionary"
   ]
  },
  {
   "cell_type": "code",
   "execution_count": null,
   "id": "83ecdc20-7387-4c41-aacd-3556afd9f603",
   "metadata": {},
   "outputs": [],
   "source": [
    "# by look it is almost similar to set\n",
    "# but it contains key:value pair\n",
    "\n",
    "x = {1, 2, 3}\n",
    "\n",
    "y = {'age':20, 'name':'ram'} # Here age and name are the keys and 20, 'ram' are the values\n",
    "\n",
    "print(type(x))\n",
    "print(type(y))"
   ]
  },
  {
   "cell_type": "code",
   "execution_count": 7,
   "id": "97d61c75-c0ed-4c99-a1a6-4cffbcd02e61",
   "metadata": {},
   "outputs": [
    {
     "name": "stdout",
     "output_type": "stream",
     "text": [
      "3\n",
      "20\n"
     ]
    }
   ],
   "source": [
    "# Dictionaries contains key value pair which are separated by comma\n",
    "# We can access the values of the dictionaries by using __getitem__ on keys not index positions\n",
    "\n",
    "x = [1, 2, 3, 4]\n",
    "print(x.__getitem__(2)) # x[2] -> If we have list and we want to extract the value from the list, we need to pass the index position to the getitem\n",
    "\n",
    "y = {'age':20, 'name':'ram'}\n",
    "print(y.__getitem__('age')) # y['age'] -> If you want to extract the value from the dictionary we need to pass the key to the getitem dunder method"
   ]
  },
  {
   "cell_type": "code",
   "execution_count": null,
   "id": "0697bb06-4a3d-4451-afdc-4e4d0d060eac",
   "metadata": {},
   "outputs": [],
   "source": [
    "print(y['name'])"
   ]
  },
  {
   "cell_type": "code",
   "execution_count": null,
   "id": "c470ee75-a0d9-48d7-a2ea-2706b8deafa1",
   "metadata": {
    "tags": []
   },
   "outputs": [],
   "source": [
    "x = {'name':[{'first': 'ram', 'second':'hari'}], 'age':[{'age1':20, 'age2':30}]}\n",
    "print(x) # this is the example of a nested dictionary"
   ]
  },
  {
   "cell_type": "code",
   "execution_count": null,
   "id": "2fc99932-cee3-452d-80f0-153b73a74c13",
   "metadata": {
    "tags": []
   },
   "outputs": [],
   "source": [
    "print(x.keys()) # this to access keys\n",
    "print(x.values()) # this to access values"
   ]
  },
  {
   "cell_type": "code",
   "execution_count": null,
   "id": "dbbc41ab-a1fb-4ffc-be38-7fa2faed3451",
   "metadata": {
    "tags": []
   },
   "outputs": [],
   "source": [
    "print(x['name'][0]['first'])"
   ]
  },
  {
   "cell_type": "code",
   "execution_count": 14,
   "id": "73a3be28-8bd5-42a5-834f-d541277c7e1c",
   "metadata": {},
   "outputs": [
    {
     "ename": "NameError",
     "evalue": "name 'x' is not defined",
     "output_type": "error",
     "traceback": [
      "\u001b[1;31m---------------------------------------------------------------------------\u001b[0m",
      "\u001b[1;31mNameError\u001b[0m                                 Traceback (most recent call last)",
      "Cell \u001b[1;32mIn[14], line 1\u001b[0m\n\u001b[1;32m----> 1\u001b[0m \u001b[38;5;28mprint\u001b[39m(\u001b[43mx\u001b[49m[\u001b[38;5;124m'\u001b[39m\u001b[38;5;124mage\u001b[39m\u001b[38;5;124m'\u001b[39m][\u001b[38;5;241m0\u001b[39m][\u001b[38;5;124m'\u001b[39m\u001b[38;5;124mage2\u001b[39m\u001b[38;5;124m'\u001b[39m])\n",
      "\u001b[1;31mNameError\u001b[0m: name 'x' is not defined"
     ]
    }
   ],
   "source": [
    "print(x['age'][0]['age2'])"
   ]
  },
  {
   "cell_type": "code",
   "execution_count": null,
   "id": "0fa391ac-7e38-4aaa-a300-28a7c0f81351",
   "metadata": {
    "jp-MarkdownHeadingCollapsed": true
   },
   "outputs": [],
   "source": [
    "# why this form of storing data is useful?\n",
    "# are you aware of SQL dataabase and NOSQL database?\n",
    "\n",
    "# SQL database -> Structured database -> Data that can be stored as tables\n",
    "\n",
    "# Lets take the example of Facebook\n",
    "# which kind of data can be stored on SQL database?\n",
    "# Ans: name, username, email and password\n",
    "# This is better to store these information inside a table data since for every user they can have only one email, one username, one password etc.\n",
    "# The length of the data is uniform across members\n",
    "\n",
    "\n",
    "# Which kind of data in an APP like Facebook is not uniform?\n",
    "# No of posts, no of likes -> Maybe some people will be uploading 5 videos a day and in cotrast some will be uploading 2 video per year\n",
    "# if we want to store this data in tables -> No of columns == Max no of videos uploaded by any user\n",
    "# Let's say someone has uploaded 10000 videos in a year -> That means in the SQL database we need to have 10000 columns\n",
    "# Let's say Ram is a user who has only uploaded 1 video in the entire year -> for Ram only one column will be used Rest will be 0 or Null.\n",
    "# It will generate a matrix which will be very sparsed.\n",
    "\n",
    "# ( 1 0 0 0 0 0 0 2 0 0 0 ....\n",
    "# (0 0 0 0 0 0 0 1 0 0 0 ......\n",
    "# (0 0 2 0 0 0 0 3 0 0 0 ....)\n",
    "\n",
    "# The above is an example of a sparse matrix -> most of the elements are zeros\n",
    "\n",
    "# THis is when we can store the information more effectively inside a dictionary -> JSON file\n",
    "# {'u1': {}, 'u2': {}, ....} # here the length of data present for u1 is independent of u2\n",
    "# I can store information in the memory, depending on how many times the user posted the video, which is highly memory efficient, as there is no sparcity"
   ]
  },
  {
   "cell_type": "code",
   "execution_count": null,
   "id": "5658fba4-5240-4a4c-a1a8-4a626f9da5a4",
   "metadata": {},
   "outputs": [],
   "source": [
    "print(x)"
   ]
  },
  {
   "cell_type": "code",
   "execution_count": null,
   "id": "d36fe6bd-d2a5-409a-8c82-e09c34065bb0",
   "metadata": {},
   "outputs": [],
   "source": [
    "print(dir(x))"
   ]
  },
  {
   "cell_type": "code",
   "execution_count": null,
   "id": "b909c1b2-1eec-4d39-a18b-e1a630c288dc",
   "metadata": {},
   "outputs": [],
   "source": []
  },
  {
   "cell_type": "code",
   "execution_count": null,
   "id": "75af1aa7-78cd-4106-ae38-b7955778ff14",
   "metadata": {
    "tags": []
   },
   "outputs": [],
   "source": [
    "for i in x:\n",
    "    print(i) # Iteration on dict extracts the keys by default\n",
    "    print(x[i])"
   ]
  },
  {
   "cell_type": "code",
   "execution_count": null,
   "id": "d7a17825-e753-4f0d-94db-d5767a13722e",
   "metadata": {},
   "outputs": [],
   "source": [
    "for i in x.values():\n",
    "    print(i)"
   ]
  },
  {
   "cell_type": "code",
   "execution_count": null,
   "id": "60c3a001-09d8-49b0-80d2-46743b326d97",
   "metadata": {},
   "outputs": [],
   "source": [
    "for i, j in x.items():\n",
    "    print(j) # .items() returns the key value pair -> This is simillar to enumerate"
   ]
  },
  {
   "cell_type": "code",
   "execution_count": null,
   "id": "361a73c9-3a35-4dfc-9e50-d21499229a71",
   "metadata": {
    "tags": []
   },
   "outputs": [],
   "source": [
    "# Dictionaries are mutable -> __setitem__\n",
    "x = {'cow':4, 'spider':8, 'man':2}\n",
    "print(x)"
   ]
  },
  {
   "cell_type": "code",
   "execution_count": null,
   "id": "46b652e2-88a4-4be9-b2c7-81cec1f761da",
   "metadata": {
    "tags": []
   },
   "outputs": [],
   "source": [
    "x['fish'] = 0 # This means that using the assignment operator we can add values to the dictionary\n",
    "# This is the reason why dictionaries are mutable"
   ]
  },
  {
   "cell_type": "code",
   "execution_count": null,
   "id": "e2fc6c37-93da-4901-b201-fd70eb593004",
   "metadata": {
    "tags": []
   },
   "outputs": [],
   "source": [
    "x"
   ]
  },
  {
   "cell_type": "code",
   "execution_count": null,
   "id": "b3c79044-a2c9-4afd-ad06-be6f0179e96c",
   "metadata": {
    "tags": []
   },
   "outputs": [],
   "source": [
    "del x['fish'] # remove the key from the dictionary"
   ]
  },
  {
   "cell_type": "code",
   "execution_count": null,
   "id": "6b24d398-17ac-469f-af4b-a8de59f494d9",
   "metadata": {
    "tags": []
   },
   "outputs": [],
   "source": [
    "x"
   ]
  },
  {
   "cell_type": "code",
   "execution_count": null,
   "id": "27e93329-8a20-4aa0-8306-c94771831ebb",
   "metadata": {
    "tags": []
   },
   "outputs": [],
   "source": [
    "x['monkey']"
   ]
  },
  {
   "cell_type": "code",
   "execution_count": null,
   "id": "7b28e32d-de3e-400b-b4f0-79038221dd94",
   "metadata": {},
   "outputs": [],
   "source": [
    "# to avoid the keyerror in dictionaries we use get method\n",
    "x.get('monkey', 'not available')"
   ]
  },
  {
   "cell_type": "code",
   "execution_count": null,
   "id": "aaee8be4-f206-4408-859f-36249b41791e",
   "metadata": {},
   "outputs": [],
   "source": [
    "x.get('man', 'NA')"
   ]
  },
  {
   "cell_type": "code",
   "execution_count": null,
   "id": "e9db9e20-3354-4de8-988c-725f29898645",
   "metadata": {
    "tags": []
   },
   "outputs": [],
   "source": [
    "m=dict()\n",
    "m['a']=2\n",
    "m"
   ]
  },
  {
   "cell_type": "code",
   "execution_count": null,
   "id": "e638fea7-f468-4892-a669-dc80d966a4b9",
   "metadata": {},
   "outputs": [],
   "source": []
  },
  {
   "cell_type": "code",
   "execution_count": null,
   "id": "40294719-e448-4db6-aca8-724b1e2a8dc4",
   "metadata": {},
   "outputs": [],
   "source": []
  },
  {
   "cell_type": "code",
   "execution_count": 68,
   "id": "bfd042b9-4576-4b63-b4d5-955ccf63f2d7",
   "metadata": {
    "tags": []
   },
   "outputs": [],
   "source": [
    "x = [('ram', 22.3), ('ramesh', 22.2), ('raghav', 22.3), ('gita', 21), ('gautam', 21), ('hari', 22.2)]"
   ]
  },
  {
   "cell_type": "code",
   "execution_count": 73,
   "id": "4ff4ecd9-c318-4de9-9d52-49b1b1345f18",
   "metadata": {
    "tags": []
   },
   "outputs": [
    {
     "name": "stdout",
     "output_type": "stream",
     "text": [
      "{22.3: ['ram', 'raghav'], 22.2: ['ramesh', 'hari'], 21: ['gita', 'gautam']}\n",
      "{21, 22.2, 22.3}\n",
      "{22.3: ['raghav', 'ram'], 22.2: ['hari', 'ramesh'], 21: ['gautam', 'gita']}\n",
      "[('gautam', 21), ('gita', 21), ('hari', 22.2), ('ramesh', 22.2), ('raghav', 22.3), ('ram', 22.3)]\n"
     ]
    }
   ],
   "source": [
    "y=[]\n",
    "z=dict()\n",
    "\n",
    "for i in x:\n",
    "    y.append(i[1])\n",
    "    if i[1] not in z:\n",
    "        z[i[1]]=[i[0]]\n",
    "    else:\n",
    "        z[i[1]].append(i[0])\n",
    "\n",
    "print(z)\n",
    "k=set(sorted(y))\n",
    "print(k) # all the unique times in sorted order\n",
    "#print(z) # this is the information who call completed the race at what time where date is stored as time:[name1, name2]\n",
    "\n",
    "for i in z:\n",
    "    z[i].sort()\n",
    "print(z)\n",
    "\n",
    "a=[]\n",
    "for i in k:\n",
    "    for j in range(len(z[i])):\n",
    "        a.append((z[i][j], i))\n",
    "\n",
    "print(a)"
   ]
  },
  {
   "cell_type": "code",
   "execution_count": 83,
   "id": "a7bdded1-67c6-474c-93f2-4c90d2703451",
   "metadata": {
    "tags": []
   },
   "outputs": [
    {
     "name": "stdout",
     "output_type": "stream",
     "text": [
      "100\n"
     ]
    },
    {
     "ename": "KeyError",
     "evalue": "'l'",
     "output_type": "error",
     "traceback": [
      "\u001b[1;31m---------------------------------------------------------------------------\u001b[0m",
      "\u001b[1;31mKeyError\u001b[0m                                  Traceback (most recent call last)",
      "Cell \u001b[1;32mIn[83], line 2\u001b[0m\n\u001b[0;32m      1\u001b[0m \u001b[38;5;28;01mfor\u001b[39;00m j \u001b[38;5;129;01min\u001b[39;00m {\u001b[38;5;241m1\u001b[39m:[{\u001b[38;5;124m'\u001b[39m\u001b[38;5;124ml\u001b[39m\u001b[38;5;124m'\u001b[39m:\u001b[38;5;241m100\u001b[39m}], \u001b[38;5;241m2\u001b[39m:[{\u001b[38;5;124m'\u001b[39m\u001b[38;5;124mh\u001b[39m\u001b[38;5;124m'\u001b[39m:\u001b[38;5;241m200\u001b[39m}]}\u001b[38;5;241m.\u001b[39mvalues():\n\u001b[1;32m----> 2\u001b[0m     \u001b[38;5;28mprint\u001b[39m(\u001b[43mj\u001b[49m\u001b[43m[\u001b[49m\u001b[38;5;241;43m0\u001b[39;49m\u001b[43m]\u001b[49m\u001b[43m[\u001b[49m\u001b[38;5;124;43m'\u001b[39;49m\u001b[38;5;124;43ml\u001b[39;49m\u001b[38;5;124;43m'\u001b[39;49m\u001b[43m]\u001b[49m)\n",
      "\u001b[1;31mKeyError\u001b[0m: 'l'"
     ]
    }
   ],
   "source": [
    "for j in {1:[{'l':100}], 2:[{'h':200}]}.values():\n",
    "    print(j[0]['l'])"
   ]
  },
  {
   "cell_type": "code",
   "execution_count": 82,
   "id": "b2ad382e-7adf-43a0-8a7c-fd8ee7264273",
   "metadata": {
    "tags": []
   },
   "outputs": [
    {
     "name": "stdout",
     "output_type": "stream",
     "text": [
      "{'r': 8, 'u': 2, 's': 9, 'i': 13, 'a': 12, ' ': 19, 'k': 1, 'n': 8, 'w': 2, 't': 12, 'h': 3, 'e': 9, 'o': 8, 'y': 1, 'm': 3, 'p': 3, 'c': 4, 'd': 4, 'g': 1}\n"
     ]
    }
   ],
   "source": [
    "x=['russia ukrain war is the reason why tomatto price has increased in india', 'tomatto is demanding pottato to increase its price']\n",
    "y=dict()\n",
    "\n",
    "for i in x:\n",
    "    for j in i:\n",
    "        if j not in y:\n",
    "            y[j]=1\n",
    "        else:\n",
    "            y[j] +=1\n",
    "print(y)"
   ]
  },
  {
   "cell_type": "markdown",
   "id": "9c57200b-5198-417c-ba10-af40d9b364e4",
   "metadata": {},
   "source": [
    "counter"
   ]
  },
  {
   "cell_type": "code",
   "execution_count": 84,
   "id": "3503379d-8369-4744-8d4d-0207159dc819",
   "metadata": {
    "tags": []
   },
   "outputs": [
    {
     "name": "stdout",
     "output_type": "stream",
     "text": [
      "russia ukrain war is the reason why tomatto price has increased in indiatomatto is demanding pottato to increase its price\n",
      "Counter({' ': 19, 'i': 13, 'a': 12, 't': 12, 's': 9, 'e': 9, 'r': 8, 'n': 8, 'o': 8, 'c': 4, 'd': 4, 'h': 3, 'm': 3, 'p': 3, 'u': 2, 'w': 2, 'k': 1, 'y': 1, 'g': 1})\n"
     ]
    },
    {
     "data": {
      "text/plain": [
       "[(' ', 19), ('i', 13), ('a', 12)]"
      ]
     },
     "execution_count": 84,
     "metadata": {},
     "output_type": "execute_result"
    }
   ],
   "source": [
    "x=['russia ukrain war is the reason why tomatto price has increased in india', 'tomatto is demanding pottato to increase its price']\n",
    "\n",
    "from collections import Counter\n",
    "\n",
    "#c = Counter('aaaabbbcccccdddee')\n",
    "#c\n",
    "\n",
    "k=''\n",
    "for i in x:\n",
    "    k = k+i\n",
    "print(k)\n",
    "    \n",
    "c = Counter(k)\n",
    "print(c)\n",
    "c.most_common(3)"
   ]
  },
  {
   "cell_type": "code",
   "execution_count": 8,
   "id": "64b85507-489a-4f11-8376-12decf824f8f",
   "metadata": {
    "tags": []
   },
   "outputs": [
    {
     "name": "stdout",
     "output_type": "stream",
     "text": [
      "Counter({'a': 4, 'b': 3, 'c': 3, 'd': 3})\n",
      "Counter({'f': 5, 'd': 3, 'e': 2})\n",
      "Counter({'d': 6, 'f': 5, 'a': 4, 'b': 3, 'c': 3, 'e': 2})\n"
     ]
    }
   ],
   "source": [
    "c1=Counter('aaaabbbcccddd')\n",
    "print(c1)\n",
    "c2=Counter('dddeefffff')\n",
    "print(c2)\n",
    "\n",
    "print(c1+c2)"
   ]
  },
  {
   "cell_type": "markdown",
   "id": "753b2360-3793-41bc-b625-37c112550b5a",
   "metadata": {},
   "source": [
    "deque"
   ]
  },
  {
   "cell_type": "code",
   "execution_count": 9,
   "id": "dcf65cea-09ea-4a60-a614-b1401fadeada",
   "metadata": {
    "tags": []
   },
   "outputs": [
    {
     "data": {
      "text/plain": [
       "deque([0, 1, 2, 3, 4, 5, 6])"
      ]
     },
     "execution_count": 9,
     "metadata": {},
     "output_type": "execute_result"
    }
   ],
   "source": [
    "x=[1,2,3,4,5,6]\n",
    "#x.append(7) # how many operations are done by python? #o(1)\n",
    "#x.insert(0,0)  # All numbers have to change their position #o(n)\n",
    "\n",
    "from collections import deque\n",
    "d = deque(x)\n",
    "d.appendleft(0) #O(1)\n",
    "d"
   ]
  },
  {
   "cell_type": "markdown",
   "id": "63017b13-92ac-4d6b-95b0-f7a090cdb553",
   "metadata": {},
   "source": [
    "defaultdict"
   ]
  },
  {
   "cell_type": "code",
   "execution_count": 85,
   "id": "af6763cd-d202-477f-9889-3dd1d4b839ac",
   "metadata": {
    "tags": []
   },
   "outputs": [
    {
     "data": {
      "text/plain": [
       "defaultdict(list, {'age': [23]})"
      ]
     },
     "execution_count": 85,
     "metadata": {},
     "output_type": "execute_result"
    }
   ],
   "source": [
    "from collections import defaultdict\n",
    "d=defaultdict(list)\n",
    "d['age'].append(23)\n",
    "d"
   ]
  },
  {
   "cell_type": "code",
   "execution_count": null,
   "id": "59d3c1b8-43d4-49b9-8dc3-37a4c20d1dfc",
   "metadata": {
    "tags": []
   },
   "outputs": [],
   "source": [
    "x= 'WE ARE doing good in life 12335 #&$^+&&'\n",
    "#create a dict which can store the capital letters, vowels, digits, special characters as a list\n",
    "\n",
    "#y={'capital_letters':[], 'vowel':[], 'digits':[], 'sc':[]}\n",
    "d=defaultdict(list)\n",
    "   \n",
    "for i in x:\n",
    "    if i.isupper():\n",
    "        d['capital_letters'].append(i)\n",
    "    if i in 'aeiou':\n",
    "        d['vowel'].append(i)"
   ]
  },
  {
   "cell_type": "code",
   "execution_count": null,
   "id": "472e1dbf-d442-4ea6-8282-698cdc9a7c77",
   "metadata": {
    "tags": []
   },
   "outputs": [],
   "source": [
    "d"
   ]
  },
  {
   "cell_type": "markdown",
   "id": "a6c58c33-9631-4904-bc15-3954db10153e",
   "metadata": {},
   "source": [
    "namedtuple"
   ]
  },
  {
   "cell_type": "code",
   "execution_count": 10,
   "id": "4162f260-e673-4f6f-83f7-1e442a6d3495",
   "metadata": {
    "tags": []
   },
   "outputs": [
    {
     "name": "stdout",
     "output_type": "stream",
     "text": [
      "point(x=11, y=12)\n"
     ]
    }
   ],
   "source": [
    "from collections import namedtuple\n",
    "point= namedtuple('point', ['x', 'y'])\n",
    "p=point(x=11,y=12)\n",
    "print(p)"
   ]
  },
  {
   "cell_type": "code",
   "execution_count": 11,
   "id": "12fd2c0c-2e76-4b53-9a7c-5a1a1d734a8b",
   "metadata": {
    "tags": []
   },
   "outputs": [
    {
     "data": {
      "text/plain": [
       "12"
      ]
     },
     "execution_count": 11,
     "metadata": {},
     "output_type": "execute_result"
    }
   ],
   "source": [
    "p[1]"
   ]
  },
  {
   "cell_type": "code",
   "execution_count": null,
   "id": "c925b9d6-2019-4310-a704-f8a3f2d85d4c",
   "metadata": {},
   "outputs": [],
   "source": []
  },
  {
   "cell_type": "markdown",
   "id": "57739847-2614-45e2-ada9-7b33b69ba8fc",
   "metadata": {},
   "source": [
    "# functions"
   ]
  },
  {
   "cell_type": "markdown",
   "id": "d877a3e6-9993-4ceb-bcd3-cad94b538bbd",
   "metadata": {},
   "source": [
    "why we need to use functions?"
   ]
  },
  {
   "cell_type": "markdown",
   "id": "df9d93f2-4576-4af8-b173-5d36b36f3677",
   "metadata": {},
   "source": [
    "We need to use functions for two major reasons."
   ]
  },
  {
   "cell_type": "markdown",
   "id": "3828b348-300e-45ff-ab93-5d8fefde2e61",
   "metadata": {},
   "source": [
    "1. It helps us to avoid the repatition of the code.\n",
    "2. IT helps us to structure the code."
   ]
  },
  {
   "cell_type": "code",
   "execution_count": null,
   "id": "fa6ac078-49e6-4f75-9cd1-e70bc6cc4cb6",
   "metadata": {
    "tags": []
   },
   "outputs": [],
   "source": [
    "# how to define the function\n",
    "# def -> definition\n",
    "# a,b -> arguments\n",
    "# A function has to return same value, otherwise it returns the none object\n",
    "\n",
    "#Definition site -> where we are creating the function\n",
    "#remember -> Creating a function is not suffice, until you call it\n",
    "\n",
    "def add(a,b):\n",
    "    z= a+b\n",
    "    return z # if we dont return the value here the function will by default return the None"
   ]
  },
  {
   "cell_type": "code",
   "execution_count": null,
   "id": "86d69cb3-7d31-48b6-b5c0-d290e2397575",
   "metadata": {
    "tags": []
   },
   "outputs": [],
   "source": [
    "# to use the function we need to call the function by its name\n",
    "z=add(4,5)\n",
    "print(z)"
   ]
  },
  {
   "cell_type": "code",
   "execution_count": null,
   "id": "5766a2dc-d582-4e8e-9f57-5c896c160214",
   "metadata": {},
   "outputs": [],
   "source": [
    "a # is an argument or variable defined and processed inside the function -> local variable"
   ]
  },
  {
   "cell_type": "code",
   "execution_count": null,
   "id": "220b7794-6482-4e37-b6e3-314418c258b8",
   "metadata": {
    "tags": []
   },
   "outputs": [],
   "source": [
    "z # global variable"
   ]
  },
  {
   "cell_type": "code",
   "execution_count": 12,
   "id": "40728a45-59ea-4570-b708-3664caf1c581",
   "metadata": {
    "tags": []
   },
   "outputs": [
    {
     "name": "stdout",
     "output_type": "stream",
     "text": [
      "1\n"
     ]
    },
    {
     "ename": "TypeError",
     "evalue": "unsupported operand type(s) for +: 'NoneType' and 'int'",
     "output_type": "error",
     "traceback": [
      "\u001b[1;31m---------------------------------------------------------------------------\u001b[0m",
      "\u001b[1;31mTypeError\u001b[0m                                 Traceback (most recent call last)",
      "Cell \u001b[1;32mIn[12], line 5\u001b[0m\n\u001b[0;32m      2\u001b[0m     \u001b[38;5;28mprint\u001b[39m(a\u001b[38;5;241m-\u001b[39mb)  \u001b[38;5;66;03m# print statement is not same as the return keyword of function, in this case it will return None\u001b[39;00m\n\u001b[0;32m      4\u001b[0m z\u001b[38;5;241m=\u001b[39msub(\u001b[38;5;241m5\u001b[39m,\u001b[38;5;241m4\u001b[39m)\n\u001b[1;32m----> 5\u001b[0m \u001b[38;5;28mprint\u001b[39m(\u001b[43mz\u001b[49m\u001b[38;5;241;43m+\u001b[39;49m\u001b[38;5;241;43m2\u001b[39;49m)\n",
      "\u001b[1;31mTypeError\u001b[0m: unsupported operand type(s) for +: 'NoneType' and 'int'"
     ]
    }
   ],
   "source": [
    "def sub(a, b):\n",
    "    print(a-b)  # print statement is not same as the return keyword of function, in this case it will return None\n",
    "    \n",
    "z=sub(5,4)\n",
    "print(z+2)"
   ]
  },
  {
   "cell_type": "code",
   "execution_count": 13,
   "id": "10bc5e9e-f150-4609-8aef-37991358da59",
   "metadata": {
    "tags": []
   },
   "outputs": [
    {
     "name": "stdout",
     "output_type": "stream",
     "text": [
      "5\n"
     ]
    },
    {
     "data": {
      "text/plain": [
       "NoneType"
      ]
     },
     "execution_count": 13,
     "metadata": {},
     "output_type": "execute_result"
    }
   ],
   "source": [
    "type(print(5))"
   ]
  },
  {
   "cell_type": "code",
   "execution_count": null,
   "id": "93f7a1f3-7b4f-49b1-ac1a-ece38925d13c",
   "metadata": {
    "tags": []
   },
   "outputs": [],
   "source": [
    "def mul(a,b): # here, a, b are the required arguments\n",
    "    return a*b\n",
    "    \n",
    "z=mul(2)  # 2 is the posititional arguments\n",
    "# positional arguments are the arguments passed from calling site that replaces the values for required in def site\n",
    "print(z)"
   ]
  },
  {
   "cell_type": "code",
   "execution_count": null,
   "id": "0210150e-8cea-4a9c-b8fa-a3c6683d7160",
   "metadata": {
    "tags": []
   },
   "outputs": [],
   "source": [
    "def mul(a=3,b=2): # here, a is  the required argument, b is the default argument\n",
    "    return a*b\n",
    "    \n",
    "z=mul()  # default arguments as the name suggests as the have a default value and used when no positional arguments are passed from calling site\n",
    "print(z)"
   ]
  },
  {
   "cell_type": "code",
   "execution_count": 34,
   "id": "40bc34b4-351f-4651-be60-61e1e752aef1",
   "metadata": {
    "tags": []
   },
   "outputs": [
    {
     "name": "stdout",
     "output_type": "stream",
     "text": [
      "7\n",
      "42\n"
     ]
    }
   ],
   "source": [
    "def mul(a=3,b=4): # here, a, b are the required arguments\n",
    "    print(a)\n",
    "    return a*b\n",
    "    \n",
    "z=mul(b=6,a=7)  # keyword arguments\n",
    "print(z) # a keyword argument is position independent and only depends upon the variable name that is passed"
   ]
  },
  {
   "cell_type": "code",
   "execution_count": null,
   "id": "1a1eb336-fb54-48d6-a36e-73c22b6a9493",
   "metadata": {
    "tags": []
   },
   "outputs": [],
   "source": [
    "# def site ->  required argument, default argument\n",
    "# call site -> positional, keyword "
   ]
  },
  {
   "cell_type": "code",
   "execution_count": 14,
   "id": "8771656b-0d3b-4f5c-bb9f-d43091d4f417",
   "metadata": {
    "tags": []
   },
   "outputs": [],
   "source": [
    "def cal(a,b):\n",
    "    return a+b, a-b  #  we can rreturn multiple values at the same time"
   ]
  },
  {
   "cell_type": "code",
   "execution_count": 15,
   "id": "e8502020-bed0-4858-8204-a2a963502427",
   "metadata": {
    "tags": []
   },
   "outputs": [
    {
     "name": "stdout",
     "output_type": "stream",
     "text": [
      "9 -1\n"
     ]
    }
   ],
   "source": [
    "x,y = cal(4,5)\n",
    "print(x,y)"
   ]
  },
  {
   "cell_type": "code",
   "execution_count": 87,
   "id": "6a42e54d-e4a4-4791-9f03-f227a0ed551e",
   "metadata": {
    "tags": []
   },
   "outputs": [],
   "source": [
    "def value_checker(val):\n",
    "    if val == True:\n",
    "        return 'success'\n",
    "    else:\n",
    "        return 'fail'"
   ]
  },
  {
   "cell_type": "code",
   "execution_count": 88,
   "id": "f7849f22-afb1-4a04-9e00-5890ef17929d",
   "metadata": {
    "tags": []
   },
   "outputs": [
    {
     "name": "stdout",
     "output_type": "stream",
     "text": [
      "fail\n"
     ]
    }
   ],
   "source": [
    "x=value_checker(False)\n",
    "print(x)"
   ]
  },
  {
   "cell_type": "code",
   "execution_count": 16,
   "id": "32ce6904-1bb5-4f1c-95b1-b2de6ba2064c",
   "metadata": {
    "tags": []
   },
   "outputs": [
    {
     "data": {
      "text/plain": [
       "[0, 1, 1, 2, 3, 5, 8, 13, 21, 34, 55, 89]"
      ]
     },
     "execution_count": 16,
     "metadata": {},
     "output_type": "execute_result"
    }
   ],
   "source": [
    "# write a function for hemachandra's number\n",
    "# the function should take the input as how many sequence of numbers that you want to add to the list\n",
    "# output => will be a list\n",
    "# 0, 1, 2, 3, 5, 8, ......\n",
    "\n",
    "def hema(n):\n",
    "    a=0\n",
    "    b=1\n",
    "    k=[0,1]\n",
    "    for i in range(n):\n",
    "        c=a+b\n",
    "        a=b\n",
    "        b=c\n",
    "        k.append(c)\n",
    "    return k\n",
    "\n",
    "hema(10)\n"
   ]
  },
  {
   "cell_type": "code",
   "execution_count": 17,
   "id": "2285037e-3963-40b6-ae50-5aad94c41f16",
   "metadata": {
    "tags": []
   },
   "outputs": [
    {
     "data": {
      "text/plain": [
       "120"
      ]
     },
     "execution_count": 17,
     "metadata": {},
     "output_type": "execute_result"
    }
   ],
   "source": [
    "# write a python function to return the factorial of a number\n",
    "\n",
    "def fact(n):\n",
    "    prod = 1\n",
    "    for i in range(1,n+1):\n",
    "        prod*= i\n",
    "    return prod\n",
    "\n",
    "fact(5)"
   ]
  },
  {
   "cell_type": "code",
   "execution_count": 18,
   "id": "f603b3f5-363d-4a67-8ecb-008b5bc36efc",
   "metadata": {
    "tags": []
   },
   "outputs": [
    {
     "data": {
      "text/plain": [
       "120"
      ]
     },
     "execution_count": 18,
     "metadata": {},
     "output_type": "execute_result"
    }
   ],
   "source": [
    "# how can you achieve the same result using recursion\n",
    "# recursion is the process where we call the same function inside the def part\n",
    "\n",
    "def fact(n):\n",
    "    if n == 1:\n",
    "        return 1\n",
    "    else:\n",
    "        return n* fact(n-1)\n",
    "fact(5)"
   ]
  },
  {
   "cell_type": "code",
   "execution_count": 2,
   "id": "e23ddccf-48a0-4c50-9521-0dc92eaf9c1c",
   "metadata": {
    "tags": []
   },
   "outputs": [
    {
     "data": {
      "text/plain": [
       "9"
      ]
     },
     "execution_count": 2,
     "metadata": {},
     "output_type": "execute_result"
    }
   ],
   "source": [
    "# anonymous functions -> these are the functions with the names\n",
    "x= lambda a,b:a+b\n",
    "x(4,5)\n"
   ]
  },
  {
   "cell_type": "code",
   "execution_count": 35,
   "id": "23465a7d-1015-4bb8-8ff1-c747a023fd97",
   "metadata": {
    "tags": []
   },
   "outputs": [
    {
     "name": "stdout",
     "output_type": "stream",
     "text": [
      "(5, 6, 7)\n",
      "{'a': 4, 'b': 5, 'c': 6}\n"
     ]
    }
   ],
   "source": [
    "# * pointers and ** pointers\n",
    "\n",
    "# * -> takes care of all positional arguments by storing it as a tuple\n",
    "# **  ->  takes care of all the keyword arguments by storing it as a dictorary\n",
    "\n",
    "\n",
    "def add(*args,**kwargs):\n",
    "    print(args) # argument\n",
    "    print(kwargs) # keyword argument\n",
    "\n",
    "add(5,6,7, a=4,b=5,c=6)"
   ]
  },
  {
   "cell_type": "code",
   "execution_count": null,
   "id": "c3eb00c2-d1bc-4144-864d-617961c58823",
   "metadata": {},
   "outputs": [],
   "source": []
  }
 ],
 "metadata": {
  "kernelspec": {
   "display_name": "Python 3 (ipykernel)",
   "language": "python",
   "name": "python3"
  },
  "language_info": {
   "codemirror_mode": {
    "name": "ipython",
    "version": 3
   },
   "file_extension": ".py",
   "mimetype": "text/x-python",
   "name": "python",
   "nbconvert_exporter": "python",
   "pygments_lexer": "ipython3",
   "version": "3.11.5"
  }
 },
 "nbformat": 4,
 "nbformat_minor": 5
}
